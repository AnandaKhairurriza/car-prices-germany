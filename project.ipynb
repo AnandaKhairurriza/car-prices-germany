{
 "cells": [
  {
   "attachments": {},
   "cell_type": "markdown",
   "metadata": {},
   "source": [
    "# i. Pendahuluan"
   ]
  },
  {
   "attachments": {},
   "cell_type": "markdown",
   "metadata": {},
   "source": [
    "<h4>Dataset yang digunakan : </h4> \n",
    "Dataset yang digunakan adalah data harga penjualan mobil dan spesifikasinya di Jerman.\n",
    "<h4>Objective : </h4>\n",
    "\n",
    "Project ini bertujuan untuk memprediksi harga jual sebuah mobil berdasarkan dataset yang digunakan.\n",
    "\n",
    "<h4>Dataset Source:</h4> \n",
    "\n",
    "https://www.kaggle.com/datasets/lucaspoo/germany-cars\n",
    "\n",
    "<h4>Link Website Model Deployment:</h4> \n",
    "\n",
    "https://huggingface.co/spaces/AnandaKhairurriza/P1-Milestone2"
   ]
  },
  {
   "attachments": {},
   "cell_type": "markdown",
   "metadata": {},
   "source": [
    "# ii. Import Libraries"
   ]
  },
  {
   "cell_type": "code",
   "execution_count": 1,
   "metadata": {},
   "outputs": [],
   "source": [
    "import numpy as np # Untuk pengolahan numerik\n",
    "import pandas as pd # Untuk mengolah data tabular\n",
    "import matplotlib.pyplot as plt # Untuk visualisasi data\n",
    "import seaborn as sns # Untuk visualisasi data\n",
    "import category_encoders as ce\n",
    "\n",
    "from sklearn.model_selection import train_test_split # Untuk memisahkan train set dan test set\n",
    "\n",
    "from sklearn.preprocessing import MinMaxScaler, OneHotEncoder, LabelEncoder # Untuk scaling dan encoding\n",
    "from sklearn.model_selection import GridSearchCV # Untuk pencarian hyperparameter tuning\n",
    "\n",
    "from sklearn.pipeline import Pipeline # Untuk membuat pipeline\n",
    "\n",
    "from sklearn.linear_model import LinearRegression # Untuk modeling menggunakan Linear Regression\n",
    "from sklearn.neighbors import KNeighborsRegressor # Untuk modeling menggunakan KNN\n",
    "from sklearn.tree import DecisionTreeRegressor # Untuk modeling menggunakan Decision Tree\n",
    "from sklearn.ensemble import RandomForestRegressor # Untuk modeling menggunakan Random Forest\n",
    "from sklearn.ensemble import AdaBoostRegressor # Untuk modeling menggunakan Ada Boost\n",
    "\n",
    "from sklearn.metrics import mean_absolute_error, mean_squared_error, r2_score # Untuk evaluasi menggunakan metriks MAE\n",
    "\n",
    "import pickle # Untuk menyimpan library binary\n",
    "import json # Untuk menyimpan library non binary"
   ]
  },
  {
   "attachments": {},
   "cell_type": "markdown",
   "metadata": {},
   "source": [
    "# iii. Data Loading\n",
    "Pada tahap ini dilakukan penyiapan dataset (load, periksa ukuran) sebelum dilakukan analisis dan pengolahan."
   ]
  },
  {
   "cell_type": "code",
   "execution_count": 10,
   "metadata": {},
   "outputs": [],
   "source": [
    "# Load data csv\n",
    "df = pd.read_csv(\"dataset.csv\")"
   ]
  },
  {
   "cell_type": "code",
   "execution_count": 11,
   "metadata": {},
   "outputs": [
    {
     "data": {
      "text/html": [
       "<div>\n",
       "<style scoped>\n",
       "    .dataframe tbody tr th:only-of-type {\n",
       "        vertical-align: middle;\n",
       "    }\n",
       "\n",
       "    .dataframe tbody tr th {\n",
       "        vertical-align: top;\n",
       "    }\n",
       "\n",
       "    .dataframe thead th {\n",
       "        text-align: right;\n",
       "    }\n",
       "</style>\n",
       "<table border=\"1\" class=\"dataframe\">\n",
       "  <thead>\n",
       "    <tr style=\"text-align: right;\">\n",
       "      <th></th>\n",
       "      <th>make</th>\n",
       "      <th>model</th>\n",
       "      <th>year</th>\n",
       "      <th>mileage</th>\n",
       "      <th>hp</th>\n",
       "      <th>gear</th>\n",
       "      <th>fuel</th>\n",
       "      <th>price</th>\n",
       "    </tr>\n",
       "  </thead>\n",
       "  <tbody>\n",
       "    <tr>\n",
       "      <th>0</th>\n",
       "      <td>Volkswagen</td>\n",
       "      <td>up</td>\n",
       "      <td>2019</td>\n",
       "      <td>31997</td>\n",
       "      <td>60</td>\n",
       "      <td>manual</td>\n",
       "      <td>gasoline</td>\n",
       "      <td>10190</td>\n",
       "    </tr>\n",
       "    <tr>\n",
       "      <th>1</th>\n",
       "      <td>Volkswagen</td>\n",
       "      <td>Polo</td>\n",
       "      <td>2022</td>\n",
       "      <td>100</td>\n",
       "      <td>95</td>\n",
       "      <td>manual</td>\n",
       "      <td>gasoline</td>\n",
       "      <td>24390</td>\n",
       "    </tr>\n",
       "    <tr>\n",
       "      <th>2</th>\n",
       "      <td>Volkswagen</td>\n",
       "      <td>Golf</td>\n",
       "      <td>2019</td>\n",
       "      <td>44607</td>\n",
       "      <td>116</td>\n",
       "      <td>manual</td>\n",
       "      <td>diesel</td>\n",
       "      <td>18630</td>\n",
       "    </tr>\n",
       "    <tr>\n",
       "      <th>3</th>\n",
       "      <td>Volkswagen</td>\n",
       "      <td>Tiguan</td>\n",
       "      <td>2019</td>\n",
       "      <td>42934</td>\n",
       "      <td>150</td>\n",
       "      <td>automatic</td>\n",
       "      <td>diesel</td>\n",
       "      <td>29990</td>\n",
       "    </tr>\n",
       "    <tr>\n",
       "      <th>4</th>\n",
       "      <td>Volkswagen</td>\n",
       "      <td>T6 Multivan</td>\n",
       "      <td>2021</td>\n",
       "      <td>10645</td>\n",
       "      <td>204</td>\n",
       "      <td>automatic</td>\n",
       "      <td>diesel</td>\n",
       "      <td>79890</td>\n",
       "    </tr>\n",
       "    <tr>\n",
       "      <th>5</th>\n",
       "      <td>Volkswagen</td>\n",
       "      <td>California</td>\n",
       "      <td>2021</td>\n",
       "      <td>0</td>\n",
       "      <td>114</td>\n",
       "      <td>automatic</td>\n",
       "      <td>gasoline</td>\n",
       "      <td>44393</td>\n",
       "    </tr>\n",
       "    <tr>\n",
       "      <th>6</th>\n",
       "      <td>Volkswagen</td>\n",
       "      <td>T-Roc</td>\n",
       "      <td>2021</td>\n",
       "      <td>8963</td>\n",
       "      <td>150</td>\n",
       "      <td>automatic</td>\n",
       "      <td>gasoline</td>\n",
       "      <td>34895</td>\n",
       "    </tr>\n",
       "    <tr>\n",
       "      <th>7</th>\n",
       "      <td>Volkswagen</td>\n",
       "      <td>Golf Variant</td>\n",
       "      <td>2019</td>\n",
       "      <td>96485</td>\n",
       "      <td>116</td>\n",
       "      <td>manual</td>\n",
       "      <td>diesel</td>\n",
       "      <td>17590</td>\n",
       "    </tr>\n",
       "    <tr>\n",
       "      <th>8</th>\n",
       "      <td>Volkswagen</td>\n",
       "      <td>Polo</td>\n",
       "      <td>2018</td>\n",
       "      <td>29732</td>\n",
       "      <td>116</td>\n",
       "      <td>automatic</td>\n",
       "      <td>gasoline</td>\n",
       "      <td>18980</td>\n",
       "    </tr>\n",
       "    <tr>\n",
       "      <th>9</th>\n",
       "      <td>Volkswagen</td>\n",
       "      <td>Sharan</td>\n",
       "      <td>2020</td>\n",
       "      <td>28840</td>\n",
       "      <td>177</td>\n",
       "      <td>automatic</td>\n",
       "      <td>diesel</td>\n",
       "      <td>44570</td>\n",
       "    </tr>\n",
       "  </tbody>\n",
       "</table>\n",
       "</div>"
      ],
      "text/plain": [
       "         make         model  year  mileage   hp       gear      fuel  price\n",
       "0  Volkswagen            up  2019    31997   60     manual  gasoline  10190\n",
       "1  Volkswagen          Polo  2022      100   95     manual  gasoline  24390\n",
       "2  Volkswagen          Golf  2019    44607  116     manual    diesel  18630\n",
       "3  Volkswagen        Tiguan  2019    42934  150  automatic    diesel  29990\n",
       "4  Volkswagen   T6 Multivan  2021    10645  204  automatic    diesel  79890\n",
       "5  Volkswagen    California  2021        0  114  automatic  gasoline  44393\n",
       "6  Volkswagen         T-Roc  2021     8963  150  automatic  gasoline  34895\n",
       "7  Volkswagen  Golf Variant  2019    96485  116     manual    diesel  17590\n",
       "8  Volkswagen          Polo  2018    29732  116  automatic  gasoline  18980\n",
       "9  Volkswagen        Sharan  2020    28840  177  automatic    diesel  44570"
      ]
     },
     "execution_count": 11,
     "metadata": {},
     "output_type": "execute_result"
    }
   ],
   "source": [
    "# Menampilkan 10 data awal\n",
    "df.head(10)"
   ]
  },
  {
   "cell_type": "code",
   "execution_count": 12,
   "metadata": {},
   "outputs": [
    {
     "data": {
      "text/html": [
       "<div>\n",
       "<style scoped>\n",
       "    .dataframe tbody tr th:only-of-type {\n",
       "        vertical-align: middle;\n",
       "    }\n",
       "\n",
       "    .dataframe tbody tr th {\n",
       "        vertical-align: top;\n",
       "    }\n",
       "\n",
       "    .dataframe thead th {\n",
       "        text-align: right;\n",
       "    }\n",
       "</style>\n",
       "<table border=\"1\" class=\"dataframe\">\n",
       "  <thead>\n",
       "    <tr style=\"text-align: right;\">\n",
       "      <th></th>\n",
       "      <th>make</th>\n",
       "      <th>model</th>\n",
       "      <th>year</th>\n",
       "      <th>mileage</th>\n",
       "      <th>hp</th>\n",
       "      <th>gear</th>\n",
       "      <th>fuel</th>\n",
       "      <th>price</th>\n",
       "    </tr>\n",
       "  </thead>\n",
       "  <tbody>\n",
       "    <tr>\n",
       "      <th>144830</th>\n",
       "      <td>Volvo</td>\n",
       "      <td>XC 60</td>\n",
       "      <td>2019</td>\n",
       "      <td>0</td>\n",
       "      <td>197</td>\n",
       "      <td>automatic</td>\n",
       "      <td>gasoline</td>\n",
       "      <td>62250</td>\n",
       "    </tr>\n",
       "    <tr>\n",
       "      <th>144831</th>\n",
       "      <td>Volvo</td>\n",
       "      <td>XC 90</td>\n",
       "      <td>2015</td>\n",
       "      <td>70555</td>\n",
       "      <td>401</td>\n",
       "      <td>automatic</td>\n",
       "      <td>Hybrid - gasoline</td>\n",
       "      <td>51890</td>\n",
       "    </tr>\n",
       "    <tr>\n",
       "      <th>144832</th>\n",
       "      <td>Volvo</td>\n",
       "      <td>XC 60</td>\n",
       "      <td>2015</td>\n",
       "      <td>0</td>\n",
       "      <td>197</td>\n",
       "      <td>automatic</td>\n",
       "      <td>gasoline</td>\n",
       "      <td>61900</td>\n",
       "    </tr>\n",
       "    <tr>\n",
       "      <th>144833</th>\n",
       "      <td>Volvo</td>\n",
       "      <td>XC 60</td>\n",
       "      <td>2021</td>\n",
       "      <td>0</td>\n",
       "      <td>197</td>\n",
       "      <td>automatic</td>\n",
       "      <td>diesel</td>\n",
       "      <td>65910</td>\n",
       "    </tr>\n",
       "    <tr>\n",
       "      <th>144834</th>\n",
       "      <td>Volvo</td>\n",
       "      <td>XC 60</td>\n",
       "      <td>2016</td>\n",
       "      <td>0</td>\n",
       "      <td>197</td>\n",
       "      <td>automatic</td>\n",
       "      <td>gasoline</td>\n",
       "      <td>58590</td>\n",
       "    </tr>\n",
       "    <tr>\n",
       "      <th>144835</th>\n",
       "      <td>Volvo</td>\n",
       "      <td>XC 60</td>\n",
       "      <td>2022</td>\n",
       "      <td>0</td>\n",
       "      <td>197</td>\n",
       "      <td>automatic</td>\n",
       "      <td>gasoline</td>\n",
       "      <td>61900</td>\n",
       "    </tr>\n",
       "    <tr>\n",
       "      <th>144836</th>\n",
       "      <td>Volvo</td>\n",
       "      <td>XC 60</td>\n",
       "      <td>2022</td>\n",
       "      <td>0</td>\n",
       "      <td>197</td>\n",
       "      <td>automatic</td>\n",
       "      <td>diesel</td>\n",
       "      <td>61390</td>\n",
       "    </tr>\n",
       "    <tr>\n",
       "      <th>144837</th>\n",
       "      <td>Volvo</td>\n",
       "      <td>XC 60</td>\n",
       "      <td>2019</td>\n",
       "      <td>90321</td>\n",
       "      <td>235</td>\n",
       "      <td>automatic</td>\n",
       "      <td>diesel</td>\n",
       "      <td>34880</td>\n",
       "    </tr>\n",
       "    <tr>\n",
       "      <th>144838</th>\n",
       "      <td>Volvo</td>\n",
       "      <td>XC 60</td>\n",
       "      <td>2019</td>\n",
       "      <td>0</td>\n",
       "      <td>197</td>\n",
       "      <td>automatic</td>\n",
       "      <td>diesel</td>\n",
       "      <td>58990</td>\n",
       "    </tr>\n",
       "    <tr>\n",
       "      <th>144839</th>\n",
       "      <td>Volvo</td>\n",
       "      <td>XC 90</td>\n",
       "      <td>2021</td>\n",
       "      <td>0</td>\n",
       "      <td>235</td>\n",
       "      <td>automatic</td>\n",
       "      <td>diesel</td>\n",
       "      <td>93000</td>\n",
       "    </tr>\n",
       "  </tbody>\n",
       "</table>\n",
       "</div>"
      ],
      "text/plain": [
       "         make  model  year  mileage   hp       gear               fuel  price\n",
       "144830  Volvo  XC 60  2019        0  197  automatic           gasoline  62250\n",
       "144831  Volvo  XC 90  2015    70555  401  automatic  Hybrid - gasoline  51890\n",
       "144832  Volvo  XC 60  2015        0  197  automatic           gasoline  61900\n",
       "144833  Volvo  XC 60  2021        0  197  automatic             diesel  65910\n",
       "144834  Volvo  XC 60  2016        0  197  automatic           gasoline  58590\n",
       "144835  Volvo  XC 60  2022        0  197  automatic           gasoline  61900\n",
       "144836  Volvo  XC 60  2022        0  197  automatic             diesel  61390\n",
       "144837  Volvo  XC 60  2019    90321  235  automatic             diesel  34880\n",
       "144838  Volvo  XC 60  2019        0  197  automatic             diesel  58990\n",
       "144839  Volvo  XC 90  2021        0  235  automatic             diesel  93000"
      ]
     },
     "execution_count": 12,
     "metadata": {},
     "output_type": "execute_result"
    }
   ],
   "source": [
    "# Menampilkan 10 data terakhir\n",
    "df.tail(10)"
   ]
  },
  {
   "cell_type": "code",
   "execution_count": 13,
   "metadata": {},
   "outputs": [
    {
     "name": "stdout",
     "output_type": "stream",
     "text": [
      "<class 'pandas.core.frame.DataFrame'>\n",
      "RangeIndex: 144840 entries, 0 to 144839\n",
      "Data columns (total 8 columns):\n",
      " #   Column   Non-Null Count   Dtype \n",
      "---  ------   --------------   ----- \n",
      " 0   make     144840 non-null  object\n",
      " 1   model    144840 non-null  object\n",
      " 2   year     144840 non-null  int64 \n",
      " 3   mileage  144840 non-null  int64 \n",
      " 4   hp       144840 non-null  int64 \n",
      " 5   gear     144840 non-null  object\n",
      " 6   fuel     144840 non-null  object\n",
      " 7   price    144840 non-null  int64 \n",
      "dtypes: int64(4), object(4)\n",
      "memory usage: 8.8+ MB\n"
     ]
    }
   ],
   "source": [
    "df.info()"
   ]
  },
  {
   "attachments": {},
   "cell_type": "markdown",
   "metadata": {},
   "source": [
    "Berdasarkan informasi dataset, dari 8 kolom sebanyak 4 kolom bertype numerik dan 4 kolom bertype string/object. Selain itu tidak ada data null pada dataset ini. Kemudian berikut adalah informasi dari setiap kolom pada dataset:\n",
    "<ul>\n",
    "    <li><b>make : </b>Merek mobil</li>\n",
    "    <li><b>model : </b>Nama model dari mobil</li>\n",
    "    <li><b>year : </b>Tahun registrasi</li>\n",
    "    <li><b>mileage : </b>Jarak yang telah ditempuh oleh mobil tersebut (dalam km)</li>\n",
    "    <li><b>hp : </b>Ukuran tenaga kuda (hp) dari mobil tersebut</li>\n",
    "    <li><b>gear : </b>Transmisi yang digunakan (otomatis/manual)</li>\n",
    "    <li><b>fuel : </b>Jenis bahan bakar yang digunakan</li>\n",
    "    <li><b>price : </b>Harga mobil</li>\n",
    "</ul>"
   ]
  },
  {
   "cell_type": "code",
   "execution_count": 14,
   "metadata": {},
   "outputs": [
    {
     "data": {
      "text/html": [
       "<div>\n",
       "<style scoped>\n",
       "    .dataframe tbody tr th:only-of-type {\n",
       "        vertical-align: middle;\n",
       "    }\n",
       "\n",
       "    .dataframe tbody tr th {\n",
       "        vertical-align: top;\n",
       "    }\n",
       "\n",
       "    .dataframe thead th {\n",
       "        text-align: right;\n",
       "    }\n",
       "</style>\n",
       "<table border=\"1\" class=\"dataframe\">\n",
       "  <thead>\n",
       "    <tr style=\"text-align: right;\">\n",
       "      <th></th>\n",
       "      <th>year</th>\n",
       "      <th>mileage</th>\n",
       "      <th>hp</th>\n",
       "      <th>price</th>\n",
       "    </tr>\n",
       "  </thead>\n",
       "  <tbody>\n",
       "    <tr>\n",
       "      <th>count</th>\n",
       "      <td>144840.000000</td>\n",
       "      <td>144840.000000</td>\n",
       "      <td>144840.000000</td>\n",
       "      <td>1.448400e+05</td>\n",
       "    </tr>\n",
       "    <tr>\n",
       "      <th>mean</th>\n",
       "      <td>2020.022397</td>\n",
       "      <td>23922.474579</td>\n",
       "      <td>176.288449</td>\n",
       "      <td>3.773257e+04</td>\n",
       "    </tr>\n",
       "    <tr>\n",
       "      <th>std</th>\n",
       "      <td>1.715864</td>\n",
       "      <td>28190.574548</td>\n",
       "      <td>88.576224</td>\n",
       "      <td>2.508925e+04</td>\n",
       "    </tr>\n",
       "    <tr>\n",
       "      <th>min</th>\n",
       "      <td>2012.000000</td>\n",
       "      <td>0.000000</td>\n",
       "      <td>1.000000</td>\n",
       "      <td>5.549000e+03</td>\n",
       "    </tr>\n",
       "    <tr>\n",
       "      <th>25%</th>\n",
       "      <td>2019.000000</td>\n",
       "      <td>20.000000</td>\n",
       "      <td>120.000000</td>\n",
       "      <td>2.347000e+04</td>\n",
       "    </tr>\n",
       "    <tr>\n",
       "      <th>50%</th>\n",
       "      <td>2020.000000</td>\n",
       "      <td>14090.000000</td>\n",
       "      <td>150.000000</td>\n",
       "      <td>3.170300e+04</td>\n",
       "    </tr>\n",
       "    <tr>\n",
       "      <th>75%</th>\n",
       "      <td>2021.000000</td>\n",
       "      <td>37147.500000</td>\n",
       "      <td>197.000000</td>\n",
       "      <td>4.399000e+04</td>\n",
       "    </tr>\n",
       "    <tr>\n",
       "      <th>max</th>\n",
       "      <td>2022.000000</td>\n",
       "      <td>150000.000000</td>\n",
       "      <td>843.000000</td>\n",
       "      <td>1.550000e+06</td>\n",
       "    </tr>\n",
       "  </tbody>\n",
       "</table>\n",
       "</div>"
      ],
      "text/plain": [
       "                year        mileage             hp         price\n",
       "count  144840.000000  144840.000000  144840.000000  1.448400e+05\n",
       "mean     2020.022397   23922.474579     176.288449  3.773257e+04\n",
       "std         1.715864   28190.574548      88.576224  2.508925e+04\n",
       "min      2012.000000       0.000000       1.000000  5.549000e+03\n",
       "25%      2019.000000      20.000000     120.000000  2.347000e+04\n",
       "50%      2020.000000   14090.000000     150.000000  3.170300e+04\n",
       "75%      2021.000000   37147.500000     197.000000  4.399000e+04\n",
       "max      2022.000000  150000.000000     843.000000  1.550000e+06"
      ]
     },
     "execution_count": 14,
     "metadata": {},
     "output_type": "execute_result"
    }
   ],
   "source": [
    "df.describe()"
   ]
  },
  {
   "attachments": {},
   "cell_type": "markdown",
   "metadata": {},
   "source": [
    "Dari informasi kolom numerik pada dataset, rata-rata horsepower mobil pada dataset ini adalah 176 hp. Artinya sebagian besar mobil pada dateset ini berjenis midsize (sekitar 170 hp)"
   ]
  },
  {
   "cell_type": "code",
   "execution_count": 15,
   "metadata": {},
   "outputs": [
    {
     "data": {
      "text/plain": [
       "(144840, 8)"
      ]
     },
     "execution_count": 15,
     "metadata": {},
     "output_type": "execute_result"
    }
   ],
   "source": [
    "# Cek ukuran data\n",
    "df.shape"
   ]
  },
  {
   "attachments": {},
   "cell_type": "markdown",
   "metadata": {},
   "source": [
    "Dari hasil ukuran, dataset ini memiliki 144.840 data/row dan 8 kolom."
   ]
  },
  {
   "cell_type": "code",
   "execution_count": 16,
   "metadata": {},
   "outputs": [],
   "source": [
    "# Copy dataset ke variabel baru\n",
    "df_copy = df.copy()"
   ]
  },
  {
   "attachments": {},
   "cell_type": "markdown",
   "metadata": {},
   "source": [
    "# iv. Exploratory Data Analysis (EDA)\n",
    "Pada tahap ini dilakukan eksplorasi terhadap dataset untuk mengetahui informasi data lebih detail."
   ]
  },
  {
   "attachments": {},
   "cell_type": "markdown",
   "metadata": {},
   "source": [
    "#### Mengetahui perbandingan transmisi/gear pada mobil di dataset"
   ]
  },
  {
   "cell_type": "code",
   "execution_count": 17,
   "metadata": {},
   "outputs": [
    {
     "data": {
      "text/plain": [
       "([<matplotlib.patches.Wedge at 0x135061e9c90>,\n",
       "  <matplotlib.patches.Wedge at 0x135062ebc50>],\n",
       " [Text(-0.4846228652086002, 0.9874921156733389, 'automatic'),\n",
       "  Text(0.4846228652086001, -0.9874921156733389, 'manual')],\n",
       " [Text(-0.26433974465923643, 0.5386320630945485, '64.5%\\n(93454)'),\n",
       "  Text(0.2643397446592364, -0.5386320630945485, '35.5%\\n(51386)')])"
      ]
     },
     "execution_count": 17,
     "metadata": {},
     "output_type": "execute_result"
    },
    {
     "data": {
      "image/png": "[encoded data removed]",
      "text/plain": [
       "<Figure size 640x480 with 1 Axes>"
      ]
     },
     "metadata": {},
     "output_type": "display_data"
    }
   ],
   "source": [
    "def fmt(x):\n",
    "    return '{:.1f}%\\n({:.0f})'.format(x, len(df_copy)*x/100)\n",
    "\n",
    "de_cmp = df_copy[\"gear\"].value_counts()\n",
    "plt.title(\"Perbandingan transmisi\")\n",
    "plt.pie(de_cmp, labels=de_cmp.index, shadow = True, autopct=fmt)"
   ]
  },
  {
   "attachments": {},
   "cell_type": "markdown",
   "metadata": {},
   "source": [
    "Dari hasil pie chart, sebanyak 93.454 mobil (64,5% dari dataset) adalah mobil dengan gear otomatis. Dan sebanyak 51.386 mobil (35,5% dari dataset) adalah mobil dengan gear manual."
   ]
  },
  {
   "attachments": {},
   "cell_type": "markdown",
   "metadata": {},
   "source": [
    "#### Melihat persebaran tahun rilis mobil"
   ]
  },
  {
   "cell_type": "code",
   "execution_count": 18,
   "metadata": {},
   "outputs": [
    {
     "data": {
      "text/plain": [
       "<AxesSubplot: ylabel='year'>"
      ]
     },
     "execution_count": 18,
     "metadata": {},
     "output_type": "execute_result"
    },
    {
     "data": {
      "image/png": "[encoded data removed]",
      "text/plain": [
       "<Figure size 640x480 with 1 Axes>"
      ]
     },
     "metadata": {},
     "output_type": "display_data"
    }
   ],
   "source": [
    "sns.boxplot(data=df_copy, y=df_copy.year)"
   ]
  },
  {
   "attachments": {},
   "cell_type": "markdown",
   "metadata": {},
   "source": [
    "Dari hasil boxplot, sebagian besar mobil pada dataset adalah mobil keluaran tahun 2019 sampai 2021."
   ]
  },
  {
   "attachments": {},
   "cell_type": "markdown",
   "metadata": {},
   "source": [
    "### Melihat rata-rata harga mobil berdasarkan brand"
   ]
  },
  {
   "cell_type": "code",
   "execution_count": 19,
   "metadata": {},
   "outputs": [
    {
     "data": {
      "text/plain": [
       "Text(0.5, 0, 'Brand')"
      ]
     },
     "execution_count": 19,
     "metadata": {},
     "output_type": "execute_result"
    },
    {
     "data": {
      "image/png": "[encoded data removed]",
      "text/plain": [
       "<Figure size 1800x500 with 1 Axes>"
      ]
     },
     "metadata": {},
     "output_type": "display_data"
    }
   ],
   "source": [
    "prm_df = pd.DataFrame(df_copy[[\"make\", \"price\"]].groupby(\"make\")[\"price\"].mean().sort_values())\n",
    "prm_df.plot(kind=\"bar\", figsize=(18,5), grid=True)\n",
    "plt.ylabel(\"Average car price (EUR)\")\n",
    "plt.ylabel(\"Price (EUR)\")\n",
    "plt.xlabel(\"Brand\")"
   ]
  },
  {
   "attachments": {},
   "cell_type": "markdown",
   "metadata": {},
   "source": [
    "Berdasarkan bar chart, brand Bentley memiliki rata-rata harga mobil paling tinggi dibandingkan dengan brand lainnya (diatas 250.000 Euro). Sedangkan brand Lada memiliki rata-rata harga mobil paling rendah dibandingkan brand lainnya."
   ]
  },
  {
   "attachments": {},
   "cell_type": "markdown",
   "metadata": {},
   "source": [
    "#### Melihat jumlah mobil berdasarkan bahan bakar"
   ]
  },
  {
   "cell_type": "code",
   "execution_count": 20,
   "metadata": {},
   "outputs": [
    {
     "data": {
      "image/png": "[encoded data removed]",
      "text/plain": [
       "<Figure size 1000x600 with 1 Axes>"
      ]
     },
     "metadata": {},
     "output_type": "display_data"
    }
   ],
   "source": [
    "fuel_df = pd.DataFrame(df_copy.groupby(\"fuel\")[\"fuel\"].count())\n",
    "plt.figure(figsize=(10,6))\n",
    "fuel_b = sns.barplot(data=fuel_df, x=fuel_df.index, y=fuel_df.fuel)\n",
    "plt.ylabel(\"Car Amount\")\n",
    "plt.title(\"Car amount by fuel\")\n",
    "for i in fuel_b.containers:\n",
    "    fuel_b.bar_label(i,)"
   ]
  },
  {
   "attachments": {},
   "cell_type": "markdown",
   "metadata": {},
   "source": [
    "Dari hasil bar chart, sebagian besar mobil pada dataset adalah mobil yang berbahan bakar bensin (gasoline)."
   ]
  },
  {
   "attachments": {},
   "cell_type": "markdown",
   "metadata": {},
   "source": [
    "#### Perbandingan antara harga mobil dan mileage (jarak yang sudah ditempuh mobil)"
   ]
  },
  {
   "cell_type": "code",
   "execution_count": 21,
   "metadata": {},
   "outputs": [
    {
     "data": {
      "text/plain": [
       "<AxesSubplot: xlabel='mileage', ylabel='price'>"
      ]
     },
     "execution_count": 21,
     "metadata": {},
     "output_type": "execute_result"
    },
    {
     "data": {
      "image/png": "[encoded data removed]",
      "text/plain": [
       "<Figure size 640x480 with 1 Axes>"
      ]
     },
     "metadata": {},
     "output_type": "display_data"
    }
   ],
   "source": [
    "sns.scatterplot(data=df_copy, x=df_copy.mileage, y=df_copy.price)"
   ]
  },
  {
   "attachments": {},
   "cell_type": "markdown",
   "metadata": {},
   "source": [
    "Dari hasil perbandingan, sebagian besar mobil yang telah dipakai dalam jarak yang semakin jauh maka harga mobil tersebut cenderung turun. Artinya mobil yang telah dipakai (bekas/second) harganya lebih murah dibandingkan mobil baru."
   ]
  },
  {
   "attachments": {},
   "cell_type": "markdown",
   "metadata": {},
   "source": [
    "# v. Feature Engineering\n",
    "\n",
    "Tahap ini berisi proses penyiapan data untuk training model, seperti pembagian data menjadi train-test set, normalisasi, encoding, dan sebagainya."
   ]
  },
  {
   "attachments": {},
   "cell_type": "markdown",
   "metadata": {},
   "source": [
    "#### Train test split\n",
    "Pada tahap ini akan dilakukan pemisahan fitur untuk train set dan test set"
   ]
  },
  {
   "cell_type": "code",
   "execution_count": 22,
   "metadata": {},
   "outputs": [],
   "source": [
    "# Pemisahan fitur dan target\n",
    "X = df_copy.drop(columns=[\"price\"], axis=1) # Fitur\n",
    "y = df_copy[\"price\"] # Target"
   ]
  },
  {
   "cell_type": "code",
   "execution_count": 23,
   "metadata": {},
   "outputs": [
    {
     "name": "stdout",
     "output_type": "stream",
     "text": [
      "Train size :  123114\n",
      "Test size :  21726\n"
     ]
    }
   ],
   "source": [
    "X_train, X_test, y_train, y_test = train_test_split(X, y, test_size=0.15, random_state=7) # Split dengan ukuran 85% train dan 15% test\n",
    "print(\"Train size : \", X_train.shape[0]) # Jumlah data Train set\n",
    "print(\"Test size : \", X_test.shape[0]) # Jumlah data Test set"
   ]
  },
  {
   "attachments": {},
   "cell_type": "markdown",
   "metadata": {},
   "source": [
    "Dari hasil split train dan test, sebanyak 123.114 data (85%) yang akan dijadikan sebagai training model dan 21.726 data (15%) yang akan dijadikan sebagai testing model."
   ]
  },
  {
   "attachments": {},
   "cell_type": "markdown",
   "metadata": {},
   "source": [
    "#### Handling missing value\n",
    "Pada tahap ini dilakukan pengecekan data null pada dataset dan dilakukan treatment pada data null tersebut."
   ]
  },
  {
   "cell_type": "code",
   "execution_count": 24,
   "metadata": {},
   "outputs": [
    {
     "data": {
      "text/plain": [
       "make       0\n",
       "model      0\n",
       "year       0\n",
       "mileage    0\n",
       "hp         0\n",
       "gear       0\n",
       "fuel       0\n",
       "dtype: int64"
      ]
     },
     "execution_count": 24,
     "metadata": {},
     "output_type": "execute_result"
    }
   ],
   "source": [
    "# Cek data null pada fitur train\n",
    "check = X_train.isnull().sum().sort_values(ascending=False)\n",
    "check"
   ]
  },
  {
   "cell_type": "code",
   "execution_count": 25,
   "metadata": {},
   "outputs": [
    {
     "data": {
      "text/plain": [
       "make       0\n",
       "model      0\n",
       "year       0\n",
       "mileage    0\n",
       "hp         0\n",
       "gear       0\n",
       "fuel       0\n",
       "dtype: int64"
      ]
     },
     "execution_count": 25,
     "metadata": {},
     "output_type": "execute_result"
    }
   ],
   "source": [
    "# Cek data null pada fitur test\n",
    "check = X_test.isnull().sum().sort_values(ascending=False)\n",
    "check"
   ]
  },
  {
   "cell_type": "code",
   "execution_count": 26,
   "metadata": {},
   "outputs": [
    {
     "data": {
      "text/plain": [
       "0"
      ]
     },
     "execution_count": 26,
     "metadata": {},
     "output_type": "execute_result"
    }
   ],
   "source": [
    "# Cek data null pada target train\n",
    "check = y_train.isnull().sum()\n",
    "check"
   ]
  },
  {
   "cell_type": "code",
   "execution_count": 27,
   "metadata": {},
   "outputs": [
    {
     "data": {
      "text/plain": [
       "0"
      ]
     },
     "execution_count": 27,
     "metadata": {},
     "output_type": "execute_result"
    }
   ],
   "source": [
    "# Cek data null pada target test\n",
    "check = y_test.isnull().sum()\n",
    "check"
   ]
  },
  {
   "attachments": {},
   "cell_type": "markdown",
   "metadata": {},
   "source": [
    "Dari hasil pengecekan missing value tidak ada data null pada train maupun data test. Kesimpulannya tidak ada data null pada dataset."
   ]
  },
  {
   "attachments": {},
   "cell_type": "markdown",
   "metadata": {},
   "source": [
    "#### Handling Outlier\n",
    "Pada tahap ini dilakukan pengecekan data menyimpang (outlier) pada dataset dan dilakukan treatment pada data outlier tersebut."
   ]
  },
  {
   "cell_type": "code",
   "execution_count": 28,
   "metadata": {},
   "outputs": [],
   "source": [
    "# Ambil list fitur numerik untuk handling outlier\n",
    "\n",
    "num_col = [\"mileage\", \"hp\"]"
   ]
  },
  {
   "cell_type": "code",
   "execution_count": 29,
   "metadata": {},
   "outputs": [
    {
     "name": "stdout",
     "output_type": "stream",
     "text": [
      "mileage\n",
      "Batas atas :  92873.75\n",
      "Batas bawah :  -55692.25\n",
      "Data diatas batas atas : 3919\n",
      "Data dibawah batas bawah : 0\n",
      "Value maks :  150000\n",
      "Value min :  0\n",
      "\n",
      "\n",
      "hp\n",
      "Batas atas :  312.5\n",
      "Batas bawah :  4.5\n",
      "Data diatas batas atas : 8859\n",
      "Data dibawah batas bawah : 14\n",
      "Value maks :  843\n",
      "Value min :  1\n",
      "\n",
      "\n"
     ]
    }
   ],
   "source": [
    "# Deteksi outlier\n",
    "for c in num_col:\n",
    "    IQR = X_train[c].quantile(0.75) - X_train[c].quantile(0.25)\n",
    "\n",
    "    batas_atas = X_train[c].quantile(0.75) + (1.5 * IQR)\n",
    "    batas_bawah = X_train[c].quantile(0.25) - (1.5 * IQR)\n",
    "    print(c)\n",
    "    print(\"Batas atas : \", batas_atas)\n",
    "    print(\"Batas bawah : \", batas_bawah)\n",
    "    print(\"Data diatas batas atas : {}\".format(len(X_train[X_train[c] > batas_atas])))\n",
    "    print(\"Data dibawah batas bawah : {}\".format(len(X_train[X_train[c] < batas_bawah])))\n",
    "    print(\"Value maks : \", X_train[c].max())\n",
    "    print(\"Value min : \", X_train[c].min())\n",
    "    print(\"\\n\")"
   ]
  },
  {
   "attachments": {},
   "cell_type": "markdown",
   "metadata": {},
   "source": [
    "Output diatas adalah hasil deteksi outlier pada data numerik. Secara asumsi outlier tersebut bukan termasuk data yang anomali, karena bisa saja karakteristik mobil mencapai value outlier tersebut. Sehingga outlier pada dataset ini tidak akan dihandle."
   ]
  },
  {
   "attachments": {},
   "cell_type": "markdown",
   "metadata": {},
   "source": [
    "#### Feature selection\n",
    "Pada tahap ini dilakukan fitur yang dipilih untuk dilakukan modeling."
   ]
  },
  {
   "attachments": {},
   "cell_type": "markdown",
   "metadata": {},
   "source": [
    "Menurut sebuah artikel (https://www.capitalone.com/cars/learn/managing-your-money-wisely/factors-that-can-affect-used-car-tradein-value/1224), faktor yang mempengaruhi harga sebuah mobil adalah :\n",
    "\n",
    "<ul>\n",
    "    <li>Usia penjualan mobil, umumnya harga mobil turun sebesar 20% - 30% pada setahun pertama. Kemudian dalam 5 tahun harganya dapat mencapai 60% dari harga awalnya.</li><br>\n",
    "    <li>Jarak tempuh mobil, untuk mobil bekas semakin tinggi jarak yang telah ditempuh oleh mobil tersebut maka harga jualnya cenderung menurun.</li><br>\n",
    "    <li>Kondisi mobil saat dijual, bila kondisi mobil terlihat berkarat di beberapa bagian, tergores, atau kotor akan memiliki harga jual yang murah. Semakin banyak kekurangan mobil yang akan dijual, semakin rendah pula harga jualnya.</li><br>\n",
    "    <li>Spesifikasi mobil, jenis mesin ataupun transmisi dapat mempengaruhi harga mobil. Contohnya mobil yang menggunakan transimisi otomatis umumnya memiliki harga yang lebih tinggi dibandingkan dengan yang manual.</li>\n",
    "</ul>"
   ]
  },
  {
   "attachments": {},
   "cell_type": "markdown",
   "metadata": {},
   "source": [
    "Maka berdasarkan pertimbangan tersebut, fitur yang tidak diperlukan adalah nama brand dan nama model dari mobil tersebut."
   ]
  },
  {
   "cell_type": "code",
   "execution_count": 30,
   "metadata": {},
   "outputs": [
    {
     "data": {
      "text/html": [
       "<div>\n",
       "<style scoped>\n",
       "    .dataframe tbody tr th:only-of-type {\n",
       "        vertical-align: middle;\n",
       "    }\n",
       "\n",
       "    .dataframe tbody tr th {\n",
       "        vertical-align: top;\n",
       "    }\n",
       "\n",
       "    .dataframe thead th {\n",
       "        text-align: right;\n",
       "    }\n",
       "</style>\n",
       "<table border=\"1\" class=\"dataframe\">\n",
       "  <thead>\n",
       "    <tr style=\"text-align: right;\">\n",
       "      <th></th>\n",
       "      <th>year</th>\n",
       "      <th>mileage</th>\n",
       "      <th>hp</th>\n",
       "      <th>gear</th>\n",
       "      <th>fuel</th>\n",
       "    </tr>\n",
       "  </thead>\n",
       "  <tbody>\n",
       "    <tr>\n",
       "      <th>58595</th>\n",
       "      <td>2022</td>\n",
       "      <td>0</td>\n",
       "      <td>150</td>\n",
       "      <td>manual</td>\n",
       "      <td>gasoline</td>\n",
       "    </tr>\n",
       "    <tr>\n",
       "      <th>70172</th>\n",
       "      <td>2020</td>\n",
       "      <td>14707</td>\n",
       "      <td>95</td>\n",
       "      <td>manual</td>\n",
       "      <td>gasoline</td>\n",
       "    </tr>\n",
       "    <tr>\n",
       "      <th>46097</th>\n",
       "      <td>2020</td>\n",
       "      <td>32960</td>\n",
       "      <td>462</td>\n",
       "      <td>automatic</td>\n",
       "      <td>Hybrid - gasoline</td>\n",
       "    </tr>\n",
       "    <tr>\n",
       "      <th>132051</th>\n",
       "      <td>2021</td>\n",
       "      <td>27166</td>\n",
       "      <td>75</td>\n",
       "      <td>manual</td>\n",
       "      <td>gasoline</td>\n",
       "    </tr>\n",
       "    <tr>\n",
       "      <th>91490</th>\n",
       "      <td>2021</td>\n",
       "      <td>10</td>\n",
       "      <td>140</td>\n",
       "      <td>manual</td>\n",
       "      <td>gasoline</td>\n",
       "    </tr>\n",
       "    <tr>\n",
       "      <th>...</th>\n",
       "      <td>...</td>\n",
       "      <td>...</td>\n",
       "      <td>...</td>\n",
       "      <td>...</td>\n",
       "      <td>...</td>\n",
       "    </tr>\n",
       "    <tr>\n",
       "      <th>66455</th>\n",
       "      <td>2020</td>\n",
       "      <td>7060</td>\n",
       "      <td>163</td>\n",
       "      <td>automatic</td>\n",
       "      <td>gasoline</td>\n",
       "    </tr>\n",
       "    <tr>\n",
       "      <th>53459</th>\n",
       "      <td>2019</td>\n",
       "      <td>16900</td>\n",
       "      <td>71</td>\n",
       "      <td>manual</td>\n",
       "      <td>gasoline</td>\n",
       "    </tr>\n",
       "    <tr>\n",
       "      <th>10742</th>\n",
       "      <td>2018</td>\n",
       "      <td>54200</td>\n",
       "      <td>190</td>\n",
       "      <td>automatic</td>\n",
       "      <td>diesel</td>\n",
       "    </tr>\n",
       "    <tr>\n",
       "      <th>49689</th>\n",
       "      <td>2021</td>\n",
       "      <td>8305</td>\n",
       "      <td>110</td>\n",
       "      <td>manual</td>\n",
       "      <td>gasoline</td>\n",
       "    </tr>\n",
       "    <tr>\n",
       "      <th>61615</th>\n",
       "      <td>2022</td>\n",
       "      <td>24616</td>\n",
       "      <td>110</td>\n",
       "      <td>automatic</td>\n",
       "      <td>gasoline</td>\n",
       "    </tr>\n",
       "  </tbody>\n",
       "</table>\n",
       "<p>123114 rows × 5 columns</p>\n",
       "</div>"
      ],
      "text/plain": [
       "        year  mileage   hp       gear               fuel\n",
       "58595   2022        0  150     manual           gasoline\n",
       "70172   2020    14707   95     manual           gasoline\n",
       "46097   2020    32960  462  automatic  Hybrid - gasoline\n",
       "132051  2021    27166   75     manual           gasoline\n",
       "91490   2021       10  140     manual           gasoline\n",
       "...      ...      ...  ...        ...                ...\n",
       "66455   2020     7060  163  automatic           gasoline\n",
       "53459   2019    16900   71     manual           gasoline\n",
       "10742   2018    54200  190  automatic             diesel\n",
       "49689   2021     8305  110     manual           gasoline\n",
       "61615   2022    24616  110  automatic           gasoline\n",
       "\n",
       "[123114 rows x 5 columns]"
      ]
     },
     "execution_count": 30,
     "metadata": {},
     "output_type": "execute_result"
    }
   ],
   "source": [
    "# Drop kolom/fitur yang dianggap tidak dibutuhkan\n",
    "X_train.drop(columns=[\"make\", \"model\"], axis=1, inplace=True)\n",
    "X_test.drop(columns=[\"make\", \"model\"], axis=1, inplace=True)\n",
    "\n",
    "X_train"
   ]
  },
  {
   "cell_type": "code",
   "execution_count": 31,
   "metadata": {},
   "outputs": [],
   "source": [
    "num_columns = [\"mileage\", \"hp\"] # Fitur numerik\n",
    "cat_columns = [\"gear\", \"fuel\"] # Fitur kategorikal\n",
    "cat_num_columns = [\"year\"] # Fitur kategorikal berbentuk numerik"
   ]
  },
  {
   "attachments": {},
   "cell_type": "markdown",
   "metadata": {},
   "source": [
    "#### Feature Scaling\n",
    "\n",
    "Pada tahap ini dilakukan scaling pada fitur yang numerik. Karena pada data ini fitur numeriknya memiliki pengukuran yang berbeda-beda"
   ]
  },
  {
   "cell_type": "code",
   "execution_count": 32,
   "metadata": {},
   "outputs": [
    {
     "data": {
      "text/plain": [
       "array([[0.        , 0.17695962],\n",
       "       [0.09804667, 0.11163895],\n",
       "       [0.21973333, 0.54750594],\n",
       "       ...,\n",
       "       [0.36133333, 0.22446556],\n",
       "       [0.05536667, 0.12945368],\n",
       "       [0.16410667, 0.12945368]])"
      ]
     },
     "execution_count": 32,
     "metadata": {},
     "output_type": "execute_result"
    }
   ],
   "source": [
    "# Scaling numerik dengan Min Max Scaler\n",
    "scaler = MinMaxScaler()\n",
    "scaler.fit(X_train[num_columns])\n",
    "\n",
    "X_train_num_scaled = scaler.transform(X_train[num_columns])\n",
    "X_test_num_scaled = scaler.transform(X_test[num_columns])\n",
    "\n",
    "X_train_num_scaled"
   ]
  },
  {
   "attachments": {},
   "cell_type": "markdown",
   "metadata": {},
   "source": [
    "#### Feature Encoding\n",
    "Pada tahap ini dilakukan encoding pada fitur kategorikal. Tujuannya untuk convert fitur kategorikal (string) ke dalam bentuk numerik. Untuk fitur kategorikal di encode menggunakan one hot encoder. Kemudian karena year sudah berbentuk numerik maka tidak perlu di encoding."
   ]
  },
  {
   "cell_type": "code",
   "execution_count": 33,
   "metadata": {},
   "outputs": [
    {
     "name": "stderr",
     "output_type": "stream",
     "text": [
      "c:\\Users\\user\\PythonVirtualEnvironment\\MyEnvironment\\Lib\\site-packages\\category_encoders\\one_hot.py:145: FutureWarning: iteritems is deprecated and will be removed in a future version. Use .items instead.\n",
      "  for cat_name, class_ in values.iteritems():\n",
      "c:\\Users\\user\\PythonVirtualEnvironment\\MyEnvironment\\Lib\\site-packages\\category_encoders\\one_hot.py:145: FutureWarning: iteritems is deprecated and will be removed in a future version. Use .items instead.\n",
      "  for cat_name, class_ in values.iteritems():\n"
     ]
    },
    {
     "data": {
      "text/html": [
       "<div>\n",
       "<style scoped>\n",
       "    .dataframe tbody tr th:only-of-type {\n",
       "        vertical-align: middle;\n",
       "    }\n",
       "\n",
       "    .dataframe tbody tr th {\n",
       "        vertical-align: top;\n",
       "    }\n",
       "\n",
       "    .dataframe thead th {\n",
       "        text-align: right;\n",
       "    }\n",
       "</style>\n",
       "<table border=\"1\" class=\"dataframe\">\n",
       "  <thead>\n",
       "    <tr style=\"text-align: right;\">\n",
       "      <th></th>\n",
       "      <th>gear_manual</th>\n",
       "      <th>gear_automatic</th>\n",
       "      <th>fuel_gasoline</th>\n",
       "      <th>fuel_Hybrid - gasoline</th>\n",
       "      <th>fuel_diesel</th>\n",
       "      <th>fuel_electric</th>\n",
       "      <th>fuel_gas</th>\n",
       "      <th>fuel_hybrid - diesel</th>\n",
       "      <th>fuel_other</th>\n",
       "    </tr>\n",
       "  </thead>\n",
       "  <tbody>\n",
       "    <tr>\n",
       "      <th>58595</th>\n",
       "      <td>1</td>\n",
       "      <td>0</td>\n",
       "      <td>1</td>\n",
       "      <td>0</td>\n",
       "      <td>0</td>\n",
       "      <td>0</td>\n",
       "      <td>0</td>\n",
       "      <td>0</td>\n",
       "      <td>0</td>\n",
       "    </tr>\n",
       "    <tr>\n",
       "      <th>70172</th>\n",
       "      <td>1</td>\n",
       "      <td>0</td>\n",
       "      <td>1</td>\n",
       "      <td>0</td>\n",
       "      <td>0</td>\n",
       "      <td>0</td>\n",
       "      <td>0</td>\n",
       "      <td>0</td>\n",
       "      <td>0</td>\n",
       "    </tr>\n",
       "    <tr>\n",
       "      <th>46097</th>\n",
       "      <td>0</td>\n",
       "      <td>1</td>\n",
       "      <td>0</td>\n",
       "      <td>1</td>\n",
       "      <td>0</td>\n",
       "      <td>0</td>\n",
       "      <td>0</td>\n",
       "      <td>0</td>\n",
       "      <td>0</td>\n",
       "    </tr>\n",
       "    <tr>\n",
       "      <th>132051</th>\n",
       "      <td>1</td>\n",
       "      <td>0</td>\n",
       "      <td>1</td>\n",
       "      <td>0</td>\n",
       "      <td>0</td>\n",
       "      <td>0</td>\n",
       "      <td>0</td>\n",
       "      <td>0</td>\n",
       "      <td>0</td>\n",
       "    </tr>\n",
       "    <tr>\n",
       "      <th>91490</th>\n",
       "      <td>1</td>\n",
       "      <td>0</td>\n",
       "      <td>1</td>\n",
       "      <td>0</td>\n",
       "      <td>0</td>\n",
       "      <td>0</td>\n",
       "      <td>0</td>\n",
       "      <td>0</td>\n",
       "      <td>0</td>\n",
       "    </tr>\n",
       "    <tr>\n",
       "      <th>...</th>\n",
       "      <td>...</td>\n",
       "      <td>...</td>\n",
       "      <td>...</td>\n",
       "      <td>...</td>\n",
       "      <td>...</td>\n",
       "      <td>...</td>\n",
       "      <td>...</td>\n",
       "      <td>...</td>\n",
       "      <td>...</td>\n",
       "    </tr>\n",
       "    <tr>\n",
       "      <th>66455</th>\n",
       "      <td>0</td>\n",
       "      <td>1</td>\n",
       "      <td>1</td>\n",
       "      <td>0</td>\n",
       "      <td>0</td>\n",
       "      <td>0</td>\n",
       "      <td>0</td>\n",
       "      <td>0</td>\n",
       "      <td>0</td>\n",
       "    </tr>\n",
       "    <tr>\n",
       "      <th>53459</th>\n",
       "      <td>1</td>\n",
       "      <td>0</td>\n",
       "      <td>1</td>\n",
       "      <td>0</td>\n",
       "      <td>0</td>\n",
       "      <td>0</td>\n",
       "      <td>0</td>\n",
       "      <td>0</td>\n",
       "      <td>0</td>\n",
       "    </tr>\n",
       "    <tr>\n",
       "      <th>10742</th>\n",
       "      <td>0</td>\n",
       "      <td>1</td>\n",
       "      <td>0</td>\n",
       "      <td>0</td>\n",
       "      <td>1</td>\n",
       "      <td>0</td>\n",
       "      <td>0</td>\n",
       "      <td>0</td>\n",
       "      <td>0</td>\n",
       "    </tr>\n",
       "    <tr>\n",
       "      <th>49689</th>\n",
       "      <td>1</td>\n",
       "      <td>0</td>\n",
       "      <td>1</td>\n",
       "      <td>0</td>\n",
       "      <td>0</td>\n",
       "      <td>0</td>\n",
       "      <td>0</td>\n",
       "      <td>0</td>\n",
       "      <td>0</td>\n",
       "    </tr>\n",
       "    <tr>\n",
       "      <th>61615</th>\n",
       "      <td>0</td>\n",
       "      <td>1</td>\n",
       "      <td>1</td>\n",
       "      <td>0</td>\n",
       "      <td>0</td>\n",
       "      <td>0</td>\n",
       "      <td>0</td>\n",
       "      <td>0</td>\n",
       "      <td>0</td>\n",
       "    </tr>\n",
       "  </tbody>\n",
       "</table>\n",
       "<p>123114 rows × 9 columns</p>\n",
       "</div>"
      ],
      "text/plain": [
       "        gear_manual  gear_automatic  fuel_gasoline  fuel_Hybrid - gasoline  \\\n",
       "58595             1               0              1                       0   \n",
       "70172             1               0              1                       0   \n",
       "46097             0               1              0                       1   \n",
       "132051            1               0              1                       0   \n",
       "91490             1               0              1                       0   \n",
       "...             ...             ...            ...                     ...   \n",
       "66455             0               1              1                       0   \n",
       "53459             1               0              1                       0   \n",
       "10742             0               1              0                       0   \n",
       "49689             1               0              1                       0   \n",
       "61615             0               1              1                       0   \n",
       "\n",
       "        fuel_diesel  fuel_electric  fuel_gas  fuel_hybrid - diesel  fuel_other  \n",
       "58595             0              0         0                     0           0  \n",
       "70172             0              0         0                     0           0  \n",
       "46097             0              0         0                     0           0  \n",
       "132051            0              0         0                     0           0  \n",
       "91490             0              0         0                     0           0  \n",
       "...             ...            ...       ...                   ...         ...  \n",
       "66455             0              0         0                     0           0  \n",
       "53459             0              0         0                     0           0  \n",
       "10742             1              0         0                     0           0  \n",
       "49689             0              0         0                     0           0  \n",
       "61615             0              0         0                     0           0  \n",
       "\n",
       "[123114 rows x 9 columns]"
      ]
     },
     "execution_count": 33,
     "metadata": {},
     "output_type": "execute_result"
    }
   ],
   "source": [
    "# Encode kategorikal dengan One Hot Encoder\n",
    "encoder = ce.OneHotEncoder(use_cat_names=True, handle_unknown=\"ignore\")\n",
    "encoder.fit(X_train[cat_columns])\n",
    "\n",
    "X_train_cat_encoded = encoder.transform(X_train[cat_columns])\n",
    "X_test_cat_encoded = encoder.transform(X_test[cat_columns])\n",
    "\n",
    "cat_encoded_columns = X_test_cat_encoded.columns.tolist()\n",
    "\n",
    "X_train_cat_encoded"
   ]
  },
  {
   "attachments": {},
   "cell_type": "markdown",
   "metadata": {},
   "source": [
    "#### Merge/Concate antara fitur yang sudah di scaling dan encoding"
   ]
  },
  {
   "cell_type": "code",
   "execution_count": 34,
   "metadata": {},
   "outputs": [
    {
     "data": {
      "text/plain": [
       "array([[0.00000000e+00, 1.76959620e-01, 1.00000000e+00, ...,\n",
       "        0.00000000e+00, 0.00000000e+00, 2.02200000e+03],\n",
       "       [9.80466667e-02, 1.11638955e-01, 1.00000000e+00, ...,\n",
       "        0.00000000e+00, 0.00000000e+00, 2.02000000e+03],\n",
       "       [2.19733333e-01, 5.47505938e-01, 0.00000000e+00, ...,\n",
       "        0.00000000e+00, 0.00000000e+00, 2.02000000e+03],\n",
       "       ...,\n",
       "       [3.61333333e-01, 2.24465558e-01, 0.00000000e+00, ...,\n",
       "        0.00000000e+00, 0.00000000e+00, 2.01800000e+03],\n",
       "       [5.53666667e-02, 1.29453682e-01, 1.00000000e+00, ...,\n",
       "        0.00000000e+00, 0.00000000e+00, 2.02100000e+03],\n",
       "       [1.64106667e-01, 1.29453682e-01, 0.00000000e+00, ...,\n",
       "        0.00000000e+00, 0.00000000e+00, 2.02200000e+03]])"
      ]
     },
     "execution_count": 34,
     "metadata": {},
     "output_type": "execute_result"
    }
   ],
   "source": [
    "# Menggabungkan fitur yang sudah di scaling dan di encoding\n",
    "X_train_final = np.concatenate([X_train_num_scaled, X_train_cat_encoded, X_train[cat_num_columns]], axis=1)\n",
    "X_test_final = np.concatenate([X_test_num_scaled, X_test_cat_encoded, X_test[cat_num_columns]], axis=1)\n",
    "\n",
    "X_train_final"
   ]
  },
  {
   "cell_type": "code",
   "execution_count": 35,
   "metadata": {},
   "outputs": [
    {
     "data": {
      "text/html": [
       "<div>\n",
       "<style scoped>\n",
       "    .dataframe tbody tr th:only-of-type {\n",
       "        vertical-align: middle;\n",
       "    }\n",
       "\n",
       "    .dataframe tbody tr th {\n",
       "        vertical-align: top;\n",
       "    }\n",
       "\n",
       "    .dataframe thead tr th {\n",
       "        text-align: left;\n",
       "    }\n",
       "</style>\n",
       "<table border=\"1\" class=\"dataframe\">\n",
       "  <thead>\n",
       "    <tr>\n",
       "      <th></th>\n",
       "      <th>mileage</th>\n",
       "      <th>hp</th>\n",
       "      <th>gear_manual</th>\n",
       "      <th>gear_automatic</th>\n",
       "      <th>fuel_gasoline</th>\n",
       "      <th>fuel_Hybrid - gasoline</th>\n",
       "      <th>fuel_diesel</th>\n",
       "      <th>fuel_electric</th>\n",
       "      <th>fuel_gas</th>\n",
       "      <th>fuel_hybrid - diesel</th>\n",
       "      <th>fuel_other</th>\n",
       "      <th>year</th>\n",
       "    </tr>\n",
       "  </thead>\n",
       "  <tbody>\n",
       "    <tr>\n",
       "      <th>0</th>\n",
       "      <td>0.000000</td>\n",
       "      <td>0.176960</td>\n",
       "      <td>1.0</td>\n",
       "      <td>0.0</td>\n",
       "      <td>1.0</td>\n",
       "      <td>0.0</td>\n",
       "      <td>0.0</td>\n",
       "      <td>0.0</td>\n",
       "      <td>0.0</td>\n",
       "      <td>0.0</td>\n",
       "      <td>0.0</td>\n",
       "      <td>2022.0</td>\n",
       "    </tr>\n",
       "    <tr>\n",
       "      <th>1</th>\n",
       "      <td>0.098047</td>\n",
       "      <td>0.111639</td>\n",
       "      <td>1.0</td>\n",
       "      <td>0.0</td>\n",
       "      <td>1.0</td>\n",
       "      <td>0.0</td>\n",
       "      <td>0.0</td>\n",
       "      <td>0.0</td>\n",
       "      <td>0.0</td>\n",
       "      <td>0.0</td>\n",
       "      <td>0.0</td>\n",
       "      <td>2020.0</td>\n",
       "    </tr>\n",
       "    <tr>\n",
       "      <th>2</th>\n",
       "      <td>0.219733</td>\n",
       "      <td>0.547506</td>\n",
       "      <td>0.0</td>\n",
       "      <td>1.0</td>\n",
       "      <td>0.0</td>\n",
       "      <td>1.0</td>\n",
       "      <td>0.0</td>\n",
       "      <td>0.0</td>\n",
       "      <td>0.0</td>\n",
       "      <td>0.0</td>\n",
       "      <td>0.0</td>\n",
       "      <td>2020.0</td>\n",
       "    </tr>\n",
       "    <tr>\n",
       "      <th>3</th>\n",
       "      <td>0.181107</td>\n",
       "      <td>0.087886</td>\n",
       "      <td>1.0</td>\n",
       "      <td>0.0</td>\n",
       "      <td>1.0</td>\n",
       "      <td>0.0</td>\n",
       "      <td>0.0</td>\n",
       "      <td>0.0</td>\n",
       "      <td>0.0</td>\n",
       "      <td>0.0</td>\n",
       "      <td>0.0</td>\n",
       "      <td>2021.0</td>\n",
       "    </tr>\n",
       "    <tr>\n",
       "      <th>4</th>\n",
       "      <td>0.000067</td>\n",
       "      <td>0.165083</td>\n",
       "      <td>1.0</td>\n",
       "      <td>0.0</td>\n",
       "      <td>1.0</td>\n",
       "      <td>0.0</td>\n",
       "      <td>0.0</td>\n",
       "      <td>0.0</td>\n",
       "      <td>0.0</td>\n",
       "      <td>0.0</td>\n",
       "      <td>0.0</td>\n",
       "      <td>2021.0</td>\n",
       "    </tr>\n",
       "    <tr>\n",
       "      <th>...</th>\n",
       "      <td>...</td>\n",
       "      <td>...</td>\n",
       "      <td>...</td>\n",
       "      <td>...</td>\n",
       "      <td>...</td>\n",
       "      <td>...</td>\n",
       "      <td>...</td>\n",
       "      <td>...</td>\n",
       "      <td>...</td>\n",
       "      <td>...</td>\n",
       "      <td>...</td>\n",
       "      <td>...</td>\n",
       "    </tr>\n",
       "    <tr>\n",
       "      <th>123109</th>\n",
       "      <td>0.047067</td>\n",
       "      <td>0.192399</td>\n",
       "      <td>0.0</td>\n",
       "      <td>1.0</td>\n",
       "      <td>1.0</td>\n",
       "      <td>0.0</td>\n",
       "      <td>0.0</td>\n",
       "      <td>0.0</td>\n",
       "      <td>0.0</td>\n",
       "      <td>0.0</td>\n",
       "      <td>0.0</td>\n",
       "      <td>2020.0</td>\n",
       "    </tr>\n",
       "    <tr>\n",
       "      <th>123110</th>\n",
       "      <td>0.112667</td>\n",
       "      <td>0.083135</td>\n",
       "      <td>1.0</td>\n",
       "      <td>0.0</td>\n",
       "      <td>1.0</td>\n",
       "      <td>0.0</td>\n",
       "      <td>0.0</td>\n",
       "      <td>0.0</td>\n",
       "      <td>0.0</td>\n",
       "      <td>0.0</td>\n",
       "      <td>0.0</td>\n",
       "      <td>2019.0</td>\n",
       "    </tr>\n",
       "    <tr>\n",
       "      <th>123111</th>\n",
       "      <td>0.361333</td>\n",
       "      <td>0.224466</td>\n",
       "      <td>0.0</td>\n",
       "      <td>1.0</td>\n",
       "      <td>0.0</td>\n",
       "      <td>0.0</td>\n",
       "      <td>1.0</td>\n",
       "      <td>0.0</td>\n",
       "      <td>0.0</td>\n",
       "      <td>0.0</td>\n",
       "      <td>0.0</td>\n",
       "      <td>2018.0</td>\n",
       "    </tr>\n",
       "    <tr>\n",
       "      <th>123112</th>\n",
       "      <td>0.055367</td>\n",
       "      <td>0.129454</td>\n",
       "      <td>1.0</td>\n",
       "      <td>0.0</td>\n",
       "      <td>1.0</td>\n",
       "      <td>0.0</td>\n",
       "      <td>0.0</td>\n",
       "      <td>0.0</td>\n",
       "      <td>0.0</td>\n",
       "      <td>0.0</td>\n",
       "      <td>0.0</td>\n",
       "      <td>2021.0</td>\n",
       "    </tr>\n",
       "    <tr>\n",
       "      <th>123113</th>\n",
       "      <td>0.164107</td>\n",
       "      <td>0.129454</td>\n",
       "      <td>0.0</td>\n",
       "      <td>1.0</td>\n",
       "      <td>1.0</td>\n",
       "      <td>0.0</td>\n",
       "      <td>0.0</td>\n",
       "      <td>0.0</td>\n",
       "      <td>0.0</td>\n",
       "      <td>0.0</td>\n",
       "      <td>0.0</td>\n",
       "      <td>2022.0</td>\n",
       "    </tr>\n",
       "  </tbody>\n",
       "</table>\n",
       "<p>123114 rows × 12 columns</p>\n",
       "</div>"
      ],
      "text/plain": [
       "         mileage        hp gear_manual gear_automatic fuel_gasoline  \\\n",
       "0       0.000000  0.176960         1.0            0.0           1.0   \n",
       "1       0.098047  0.111639         1.0            0.0           1.0   \n",
       "2       0.219733  0.547506         0.0            1.0           0.0   \n",
       "3       0.181107  0.087886         1.0            0.0           1.0   \n",
       "4       0.000067  0.165083         1.0            0.0           1.0   \n",
       "...          ...       ...         ...            ...           ...   \n",
       "123109  0.047067  0.192399         0.0            1.0           1.0   \n",
       "123110  0.112667  0.083135         1.0            0.0           1.0   \n",
       "123111  0.361333  0.224466         0.0            1.0           0.0   \n",
       "123112  0.055367  0.129454         1.0            0.0           1.0   \n",
       "123113  0.164107  0.129454         0.0            1.0           1.0   \n",
       "\n",
       "       fuel_Hybrid - gasoline fuel_diesel fuel_electric fuel_gas  \\\n",
       "0                         0.0         0.0           0.0      0.0   \n",
       "1                         0.0         0.0           0.0      0.0   \n",
       "2                         1.0         0.0           0.0      0.0   \n",
       "3                         0.0         0.0           0.0      0.0   \n",
       "4                         0.0         0.0           0.0      0.0   \n",
       "...                       ...         ...           ...      ...   \n",
       "123109                    0.0         0.0           0.0      0.0   \n",
       "123110                    0.0         0.0           0.0      0.0   \n",
       "123111                    0.0         1.0           0.0      0.0   \n",
       "123112                    0.0         0.0           0.0      0.0   \n",
       "123113                    0.0         0.0           0.0      0.0   \n",
       "\n",
       "       fuel_hybrid - diesel fuel_other    year  \n",
       "0                       0.0        0.0  2022.0  \n",
       "1                       0.0        0.0  2020.0  \n",
       "2                       0.0        0.0  2020.0  \n",
       "3                       0.0        0.0  2021.0  \n",
       "4                       0.0        0.0  2021.0  \n",
       "...                     ...        ...     ...  \n",
       "123109                  0.0        0.0  2020.0  \n",
       "123110                  0.0        0.0  2019.0  \n",
       "123111                  0.0        0.0  2018.0  \n",
       "123112                  0.0        0.0  2021.0  \n",
       "123113                  0.0        0.0  2022.0  \n",
       "\n",
       "[123114 rows x 12 columns]"
      ]
     },
     "execution_count": 35,
     "metadata": {},
     "output_type": "execute_result"
    }
   ],
   "source": [
    "# Convert ke Dataframe\n",
    "X_train_final_df = pd.DataFrame(X_train_final, columns=[num_columns + cat_encoded_columns + cat_num_columns])\n",
    "X_train_final_df"
   ]
  },
  {
   "attachments": {},
   "cell_type": "markdown",
   "metadata": {},
   "source": [
    "# vi. Model Definition"
   ]
  },
  {
   "attachments": {},
   "cell_type": "markdown",
   "metadata": {},
   "source": [
    "Pada project ini, beberapa algoritma yang akan digunakan untuk pemodelan adalah :\n",
    "<ul>\n",
    "    <li>Linear Regression</li>\n",
    "    <li>SVM</li>\n",
    "    <li>Decision Tree</li>\n",
    "    <li>Random Forest</li>\n",
    "    <li>AdaBoost</li>\n",
    "</ul>"
   ]
  },
  {
   "attachments": {},
   "cell_type": "markdown",
   "metadata": {},
   "source": [
    "#### Linear Regression\n",
    "\n",
    "Linear Regression adalah metode untuk mengetahui hubungan/korelasi antara variabel dependen (y) dengan satu atau lebih variabel independen (x). Algoritma ini biasanya digunakan untuk mencari nilai prediksi dengan menggunakan nilai data yang sudah ada. Hubungan antar variabel dimodelkan dalam bentuk persamaan. Persamaan sederhana dari Linear Regression adalah:\n",
    "\n",
    "## $$y = \tβ₀ + β₁ Xᵢ $$\n",
    "\n",
    "Dimana :\\\n",
    "y = variabel dependen\\\n",
    "β₀ = intercept atau perpotongan garis linear dengan sumbu y / nilai dari y saat x = 0\\\n",
    "β₁ = koefisien atau slope\\\n",
    "X = variabel independen\n",
    "\n",
    "Jika hasil prediksi dipengaruhi oleh lebih dari satu variabel, maka persamaan Linear Regressionnya adalah:\n",
    "\n",
    "## $$y = \tβ₀ + β₁ X₁ + β₂ X₂ + ... + βᵢ Xᵢ $$\n",
    "\n",
    "Dimana :\\\n",
    "y = variabel dependen\\\n",
    "β₀ = intercept atau perpotongan garis linear dengan sumbu y / nilai dari y saat x = 0\\\n",
    "β₁ = koefisien atau slope\\\n",
    "X = variabel independen"
   ]
  },
  {
   "attachments": {},
   "cell_type": "markdown",
   "metadata": {},
   "source": [
    "#### K-nearest neighbors (KNN)\n",
    "\n",
    "KNN merupakan salah satu algoritma dalam machine learning yang dapat dikatakan paling sederhana, karena KNN akan memulai learning ketika ada data baru. Cara kerja KNN adalah menghitung jarak dari data baru ke setiap data yang ada, lalu algoritma akan memilih jarak terdekat dari data baru ke setiap data sebanyak K (angka yang ditentukan), Kemudian data baru akan diprediksi berdasarkan jenis class terbanyak dari K yang ditentukan.\n",
    "\n",
    "<img src=\"https://miro.medium.com/max/1400/0*ksMa1Of3NFCvHo_Y\" alt=\"knn-illust\">\n",
    "\n",
    "Image source : https://pub.towardsai.net/k-nearest-neighbors-knn-algorithm-tutorial-machine-learning-basics-ml-ec6756d3e0ac"
   ]
  },
  {
   "attachments": {},
   "cell_type": "markdown",
   "metadata": {},
   "source": [
    "#### Decision Tree\n",
    "\n",
    "Decision Tree adalah algoritma machine learning yang cara kerjanya membagi data secara berlanjut berdasarkan parameter tertentu. Proses pembagiannya secara ilustrasi seperti pohon (dibagi menjadi 2 bagian), dan pohon dapat dijelaskan dengan dua entitas yaitu decision node dan leaves. Dimana leaves adalah sebuah keputusan/keputusan akhir, dan decision node adalah dimana sebuah data dipisahkan. Decision node sendiri terbagi menjadi root node dan child node, root node adalah pemisahan data pada bagian paling awal/atas, dan child node adalah pembagian setelah dan seterusnya dari root node.\n",
    "\n",
    "<img src=\"https://static.javatpoint.com/tutorial/machine-learning/images/decision-tree-classification-algorithm.png\" alt=\"decision-tree-illust\">\n",
    "\n",
    "Image source : https://www.javatpoint.com/machine-learning-decision-tree-classification-algorithm"
   ]
  },
  {
   "attachments": {},
   "cell_type": "markdown",
   "metadata": {},
   "source": [
    "#### Random Forest\n",
    "\n",
    "Random forest adalah algoritma machine learning yang menggabungkan output dari beberapa decision tree untuk mencapai suatu hasil. Setiap tree pada Random Forest akan mengeluarkan sebuah prediksi kategori. Prediksi kategori yang terbanyak menjadi kandidat prediksi pada model. Cara kerja random forest adalah membuat sejumlah tree dari yang ditentukan kemudian didapatkan hasil dari setiap decision tree. Selanjutnya melakukan voting dari keseluruhan output decision tree (target klasifikasi menggunakan modus, target regresi menggunakan mean). Kemudian algoritma akan memilih hasil prediksi akhir dari voting terbanyak.\n",
    "\n",
    "<img src=\"https://files.ai-pool.com/a/3406775c0c6f8fd9f8701c7ca671dad9.png\">\n",
    "\n",
    "Image source : https://ai-pool.com/a/s/random-forests-understanding"
   ]
  },
  {
   "attachments": {},
   "cell_type": "markdown",
   "metadata": {},
   "source": [
    "#### AdaBoost\n",
    "\n",
    "AdaBoost (Adaptive Boost) adalah algoritma machine learning yang menggunakan bagging dan boosting untuk mengembangkan peningkatan akurasi prediksi. Sama seperti random forest, algoritma ini juga menggunakan beberapa decision tree untuk memperoleh data prediksi. Walaupun mirip dengan random forest, algoritma ini memiliki beberapa perbedaan dengan random forest. Perbedaan pertama adalah AdaBoost membangun stumps forest. Stumps adalah pohon yang hanya terbuat dari satu cabang dan dua daun. Kedua, stumps yang dibangun tidak memiliki bobot yang sama pada prediksi akhir. Artinya, stumps yang memiliki error besar memiliki pengaruh yang kecil saat pengambilan keputusan. Perbedaan yang terakhir adalah urutan pembuatan stumps sangat penting karena setiap stumps bertujuan untuk mengurangi error yang dihasilkan oleh stumps sebelumnya. "
   ]
  },
  {
   "cell_type": "code",
   "execution_count": 36,
   "metadata": {},
   "outputs": [],
   "source": [
    "# Membuat pipeline masing-masing model\n",
    "\n",
    "pipe_lr = Pipeline([(\"lr\", LinearRegression())])\n",
    "pipe_knn = Pipeline([(\"lr\", KNeighborsRegressor())])\n",
    "pipe_dt = Pipeline([(\"dt\", DecisionTreeRegressor(random_state=7))])\n",
    "pipe_rf = Pipeline([(\"rf\", RandomForestRegressor(random_state=7))])\n",
    "pipe_ab = Pipeline([(\"ab\", AdaBoostRegressor(random_state=7))])"
   ]
  },
  {
   "attachments": {},
   "cell_type": "markdown",
   "metadata": {},
   "source": [
    "# vii. Model Training"
   ]
  },
  {
   "cell_type": "code",
   "execution_count": 37,
   "metadata": {},
   "outputs": [
    {
     "data": {
      "text/html": [
       "<style>#sk-container-id-1 {color: black;background-color: white;}#sk-container-id-1 pre{padding: 0;}#sk-container-id-1 div.sk-toggleable {background-color: white;}#sk-container-id-1 label.sk-toggleable__label {cursor: pointer;display: block;width: 100%;margin-bottom: 0;padding: 0.3em;box-sizing: border-box;text-align: center;}#sk-container-id-1 label.sk-toggleable__label-arrow:before {content: \"▸\";float: left;margin-right: 0.25em;color: #696969;}#sk-container-id-1 label.sk-toggleable__label-arrow:hover:before {color: black;}#sk-container-id-1 div.sk-estimator:hover label.sk-toggleable__label-arrow:before {color: black;}#sk-container-id-1 div.sk-toggleable__content {max-height: 0;max-width: 0;overflow: hidden;text-align: left;background-color: #f0f8ff;}#sk-container-id-1 div.sk-toggleable__content pre {margin: 0.2em;color: black;border-radius: 0.25em;background-color: #f0f8ff;}#sk-container-id-1 input.sk-toggleable__control:checked~div.sk-toggleable__content {max-height: 200px;max-width: 100%;overflow: auto;}#sk-container-id-1 input.sk-toggleable__control:checked~label.sk-toggleable__label-arrow:before {content: \"▾\";}#sk-container-id-1 div.sk-estimator input.sk-toggleable__control:checked~label.sk-toggleable__label {background-color: #d4ebff;}#sk-container-id-1 div.sk-label input.sk-toggleable__control:checked~label.sk-toggleable__label {background-color: #d4ebff;}#sk-container-id-1 input.sk-hidden--visually {border: 0;clip: rect(1px 1px 1px 1px);clip: rect(1px, 1px, 1px, 1px);height: 1px;margin: -1px;overflow: hidden;padding: 0;position: absolute;width: 1px;}#sk-container-id-1 div.sk-estimator {font-family: monospace;background-color: #f0f8ff;border: 1px dotted black;border-radius: 0.25em;box-sizing: border-box;margin-bottom: 0.5em;}#sk-container-id-1 div.sk-estimator:hover {background-color: #d4ebff;}#sk-container-id-1 div.sk-parallel-item::after {content: \"\";width: 100%;border-bottom: 1px solid gray;flex-grow: 1;}#sk-container-id-1 div.sk-label:hover label.sk-toggleable__label {background-color: #d4ebff;}#sk-container-id-1 div.sk-serial::before {content: \"\";position: absolute;border-left: 1px solid gray;box-sizing: border-box;top: 0;bottom: 0;left: 50%;z-index: 0;}#sk-container-id-1 div.sk-serial {display: flex;flex-direction: column;align-items: center;background-color: white;padding-right: 0.2em;padding-left: 0.2em;position: relative;}#sk-container-id-1 div.sk-item {position: relative;z-index: 1;}#sk-container-id-1 div.sk-parallel {display: flex;align-items: stretch;justify-content: center;background-color: white;position: relative;}#sk-container-id-1 div.sk-item::before, #sk-container-id-1 div.sk-parallel-item::before {content: \"\";position: absolute;border-left: 1px solid gray;box-sizing: border-box;top: 0;bottom: 0;left: 50%;z-index: -1;}#sk-container-id-1 div.sk-parallel-item {display: flex;flex-direction: column;z-index: 1;position: relative;background-color: white;}#sk-container-id-1 div.sk-parallel-item:first-child::after {align-self: flex-end;width: 50%;}#sk-container-id-1 div.sk-parallel-item:last-child::after {align-self: flex-start;width: 50%;}#sk-container-id-1 div.sk-parallel-item:only-child::after {width: 0;}#sk-container-id-1 div.sk-dashed-wrapped {border: 1px dashed gray;margin: 0 0.4em 0.5em 0.4em;box-sizing: border-box;padding-bottom: 0.4em;background-color: white;}#sk-container-id-1 div.sk-label label {font-family: monospace;font-weight: bold;display: inline-block;line-height: 1.2em;}#sk-container-id-1 div.sk-label-container {text-align: center;}#sk-container-id-1 div.sk-container {/* jupyter's `normalize.less` sets `[hidden] { display: none; }` but bootstrap.min.css set `[hidden] { display: none !important; }` so we also need the `!important` here to be able to override the default hidden behavior on the sphinx rendered scikit-learn.org. See: https://github.com/scikit-learn/scikit-learn/issues/21755 */display: inline-block !important;position: relative;}#sk-container-id-1 div.sk-text-repr-fallback {display: none;}</style><div id=\"sk-container-id-1\" class=\"sk-top-container\"><div class=\"sk-text-repr-fallback\"><pre>Pipeline(steps=[(&#x27;lr&#x27;, LinearRegression())])</pre><b>In a Jupyter environment, please rerun this cell to show the HTML representation or trust the notebook. <br />On GitHub, the HTML representation is unable to render, please try loading this page with nbviewer.org.</b></div><div class=\"sk-container\" hidden><div class=\"sk-item sk-dashed-wrapped\"><div class=\"sk-label-container\"><div class=\"sk-label sk-toggleable\"><input class=\"sk-toggleable__control sk-hidden--visually\" id=\"sk-estimator-id-1\" type=\"checkbox\" ><label for=\"sk-estimator-id-1\" class=\"sk-toggleable__label sk-toggleable__label-arrow\">Pipeline</label><div class=\"sk-toggleable__content\"><pre>Pipeline(steps=[(&#x27;lr&#x27;, LinearRegression())])</pre></div></div></div><div class=\"sk-serial\"><div class=\"sk-item\"><div class=\"sk-estimator sk-toggleable\"><input class=\"sk-toggleable__control sk-hidden--visually\" id=\"sk-estimator-id-2\" type=\"checkbox\" ><label for=\"sk-estimator-id-2\" class=\"sk-toggleable__label sk-toggleable__label-arrow\">LinearRegression</label><div class=\"sk-toggleable__content\"><pre>LinearRegression()</pre></div></div></div></div></div></div></div>"
      ],
      "text/plain": [
       "Pipeline(steps=[('lr', LinearRegression())])"
      ]
     },
     "execution_count": 37,
     "metadata": {},
     "output_type": "execute_result"
    }
   ],
   "source": [
    "# Fit train set dengan pipe Linear Regression\n",
    "pipe_lr.fit(X_train_final, y_train)"
   ]
  },
  {
   "cell_type": "code",
   "execution_count": 38,
   "metadata": {},
   "outputs": [
    {
     "data": {
      "text/html": [
       "<style>#sk-container-id-2 {color: black;background-color: white;}#sk-container-id-2 pre{padding: 0;}#sk-container-id-2 div.sk-toggleable {background-color: white;}#sk-container-id-2 label.sk-toggleable__label {cursor: pointer;display: block;width: 100%;margin-bottom: 0;padding: 0.3em;box-sizing: border-box;text-align: center;}#sk-container-id-2 label.sk-toggleable__label-arrow:before {content: \"▸\";float: left;margin-right: 0.25em;color: #696969;}#sk-container-id-2 label.sk-toggleable__label-arrow:hover:before {color: black;}#sk-container-id-2 div.sk-estimator:hover label.sk-toggleable__label-arrow:before {color: black;}#sk-container-id-2 div.sk-toggleable__content {max-height: 0;max-width: 0;overflow: hidden;text-align: left;background-color: #f0f8ff;}#sk-container-id-2 div.sk-toggleable__content pre {margin: 0.2em;color: black;border-radius: 0.25em;background-color: #f0f8ff;}#sk-container-id-2 input.sk-toggleable__control:checked~div.sk-toggleable__content {max-height: 200px;max-width: 100%;overflow: auto;}#sk-container-id-2 input.sk-toggleable__control:checked~label.sk-toggleable__label-arrow:before {content: \"▾\";}#sk-container-id-2 div.sk-estimator input.sk-toggleable__control:checked~label.sk-toggleable__label {background-color: #d4ebff;}#sk-container-id-2 div.sk-label input.sk-toggleable__control:checked~label.sk-toggleable__label {background-color: #d4ebff;}#sk-container-id-2 input.sk-hidden--visually {border: 0;clip: rect(1px 1px 1px 1px);clip: rect(1px, 1px, 1px, 1px);height: 1px;margin: -1px;overflow: hidden;padding: 0;position: absolute;width: 1px;}#sk-container-id-2 div.sk-estimator {font-family: monospace;background-color: #f0f8ff;border: 1px dotted black;border-radius: 0.25em;box-sizing: border-box;margin-bottom: 0.5em;}#sk-container-id-2 div.sk-estimator:hover {background-color: #d4ebff;}#sk-container-id-2 div.sk-parallel-item::after {content: \"\";width: 100%;border-bottom: 1px solid gray;flex-grow: 1;}#sk-container-id-2 div.sk-label:hover label.sk-toggleable__label {background-color: #d4ebff;}#sk-container-id-2 div.sk-serial::before {content: \"\";position: absolute;border-left: 1px solid gray;box-sizing: border-box;top: 0;bottom: 0;left: 50%;z-index: 0;}#sk-container-id-2 div.sk-serial {display: flex;flex-direction: column;align-items: center;background-color: white;padding-right: 0.2em;padding-left: 0.2em;position: relative;}#sk-container-id-2 div.sk-item {position: relative;z-index: 1;}#sk-container-id-2 div.sk-parallel {display: flex;align-items: stretch;justify-content: center;background-color: white;position: relative;}#sk-container-id-2 div.sk-item::before, #sk-container-id-2 div.sk-parallel-item::before {content: \"\";position: absolute;border-left: 1px solid gray;box-sizing: border-box;top: 0;bottom: 0;left: 50%;z-index: -1;}#sk-container-id-2 div.sk-parallel-item {display: flex;flex-direction: column;z-index: 1;position: relative;background-color: white;}#sk-container-id-2 div.sk-parallel-item:first-child::after {align-self: flex-end;width: 50%;}#sk-container-id-2 div.sk-parallel-item:last-child::after {align-self: flex-start;width: 50%;}#sk-container-id-2 div.sk-parallel-item:only-child::after {width: 0;}#sk-container-id-2 div.sk-dashed-wrapped {border: 1px dashed gray;margin: 0 0.4em 0.5em 0.4em;box-sizing: border-box;padding-bottom: 0.4em;background-color: white;}#sk-container-id-2 div.sk-label label {font-family: monospace;font-weight: bold;display: inline-block;line-height: 1.2em;}#sk-container-id-2 div.sk-label-container {text-align: center;}#sk-container-id-2 div.sk-container {/* jupyter's `normalize.less` sets `[hidden] { display: none; }` but bootstrap.min.css set `[hidden] { display: none !important; }` so we also need the `!important` here to be able to override the default hidden behavior on the sphinx rendered scikit-learn.org. See: https://github.com/scikit-learn/scikit-learn/issues/21755 */display: inline-block !important;position: relative;}#sk-container-id-2 div.sk-text-repr-fallback {display: none;}</style><div id=\"sk-container-id-2\" class=\"sk-top-container\"><div class=\"sk-text-repr-fallback\"><pre>Pipeline(steps=[(&#x27;lr&#x27;, KNeighborsRegressor())])</pre><b>In a Jupyter environment, please rerun this cell to show the HTML representation or trust the notebook. <br />On GitHub, the HTML representation is unable to render, please try loading this page with nbviewer.org.</b></div><div class=\"sk-container\" hidden><div class=\"sk-item sk-dashed-wrapped\"><div class=\"sk-label-container\"><div class=\"sk-label sk-toggleable\"><input class=\"sk-toggleable__control sk-hidden--visually\" id=\"sk-estimator-id-3\" type=\"checkbox\" ><label for=\"sk-estimator-id-3\" class=\"sk-toggleable__label sk-toggleable__label-arrow\">Pipeline</label><div class=\"sk-toggleable__content\"><pre>Pipeline(steps=[(&#x27;lr&#x27;, KNeighborsRegressor())])</pre></div></div></div><div class=\"sk-serial\"><div class=\"sk-item\"><div class=\"sk-estimator sk-toggleable\"><input class=\"sk-toggleable__control sk-hidden--visually\" id=\"sk-estimator-id-4\" type=\"checkbox\" ><label for=\"sk-estimator-id-4\" class=\"sk-toggleable__label sk-toggleable__label-arrow\">KNeighborsRegressor</label><div class=\"sk-toggleable__content\"><pre>KNeighborsRegressor()</pre></div></div></div></div></div></div></div>"
      ],
      "text/plain": [
       "Pipeline(steps=[('lr', KNeighborsRegressor())])"
      ]
     },
     "execution_count": 38,
     "metadata": {},
     "output_type": "execute_result"
    }
   ],
   "source": [
    "# Fit train set dengan pipe KNN\n",
    "pipe_knn.fit(X_train_final, y_train)"
   ]
  },
  {
   "cell_type": "code",
   "execution_count": 39,
   "metadata": {},
   "outputs": [
    {
     "data": {
      "text/html": [
       "<style>#sk-container-id-3 {color: black;background-color: white;}#sk-container-id-3 pre{padding: 0;}#sk-container-id-3 div.sk-toggleable {background-color: white;}#sk-container-id-3 label.sk-toggleable__label {cursor: pointer;display: block;width: 100%;margin-bottom: 0;padding: 0.3em;box-sizing: border-box;text-align: center;}#sk-container-id-3 label.sk-toggleable__label-arrow:before {content: \"▸\";float: left;margin-right: 0.25em;color: #696969;}#sk-container-id-3 label.sk-toggleable__label-arrow:hover:before {color: black;}#sk-container-id-3 div.sk-estimator:hover label.sk-toggleable__label-arrow:before {color: black;}#sk-container-id-3 div.sk-toggleable__content {max-height: 0;max-width: 0;overflow: hidden;text-align: left;background-color: #f0f8ff;}#sk-container-id-3 div.sk-toggleable__content pre {margin: 0.2em;color: black;border-radius: 0.25em;background-color: #f0f8ff;}#sk-container-id-3 input.sk-toggleable__control:checked~div.sk-toggleable__content {max-height: 200px;max-width: 100%;overflow: auto;}#sk-container-id-3 input.sk-toggleable__control:checked~label.sk-toggleable__label-arrow:before {content: \"▾\";}#sk-container-id-3 div.sk-estimator input.sk-toggleable__control:checked~label.sk-toggleable__label {background-color: #d4ebff;}#sk-container-id-3 div.sk-label input.sk-toggleable__control:checked~label.sk-toggleable__label {background-color: #d4ebff;}#sk-container-id-3 input.sk-hidden--visually {border: 0;clip: rect(1px 1px 1px 1px);clip: rect(1px, 1px, 1px, 1px);height: 1px;margin: -1px;overflow: hidden;padding: 0;position: absolute;width: 1px;}#sk-container-id-3 div.sk-estimator {font-family: monospace;background-color: #f0f8ff;border: 1px dotted black;border-radius: 0.25em;box-sizing: border-box;margin-bottom: 0.5em;}#sk-container-id-3 div.sk-estimator:hover {background-color: #d4ebff;}#sk-container-id-3 div.sk-parallel-item::after {content: \"\";width: 100%;border-bottom: 1px solid gray;flex-grow: 1;}#sk-container-id-3 div.sk-label:hover label.sk-toggleable__label {background-color: #d4ebff;}#sk-container-id-3 div.sk-serial::before {content: \"\";position: absolute;border-left: 1px solid gray;box-sizing: border-box;top: 0;bottom: 0;left: 50%;z-index: 0;}#sk-container-id-3 div.sk-serial {display: flex;flex-direction: column;align-items: center;background-color: white;padding-right: 0.2em;padding-left: 0.2em;position: relative;}#sk-container-id-3 div.sk-item {position: relative;z-index: 1;}#sk-container-id-3 div.sk-parallel {display: flex;align-items: stretch;justify-content: center;background-color: white;position: relative;}#sk-container-id-3 div.sk-item::before, #sk-container-id-3 div.sk-parallel-item::before {content: \"\";position: absolute;border-left: 1px solid gray;box-sizing: border-box;top: 0;bottom: 0;left: 50%;z-index: -1;}#sk-container-id-3 div.sk-parallel-item {display: flex;flex-direction: column;z-index: 1;position: relative;background-color: white;}#sk-container-id-3 div.sk-parallel-item:first-child::after {align-self: flex-end;width: 50%;}#sk-container-id-3 div.sk-parallel-item:last-child::after {align-self: flex-start;width: 50%;}#sk-container-id-3 div.sk-parallel-item:only-child::after {width: 0;}#sk-container-id-3 div.sk-dashed-wrapped {border: 1px dashed gray;margin: 0 0.4em 0.5em 0.4em;box-sizing: border-box;padding-bottom: 0.4em;background-color: white;}#sk-container-id-3 div.sk-label label {font-family: monospace;font-weight: bold;display: inline-block;line-height: 1.2em;}#sk-container-id-3 div.sk-label-container {text-align: center;}#sk-container-id-3 div.sk-container {/* jupyter's `normalize.less` sets `[hidden] { display: none; }` but bootstrap.min.css set `[hidden] { display: none !important; }` so we also need the `!important` here to be able to override the default hidden behavior on the sphinx rendered scikit-learn.org. See: https://github.com/scikit-learn/scikit-learn/issues/21755 */display: inline-block !important;position: relative;}#sk-container-id-3 div.sk-text-repr-fallback {display: none;}</style><div id=\"sk-container-id-3\" class=\"sk-top-container\"><div class=\"sk-text-repr-fallback\"><pre>Pipeline(steps=[(&#x27;dt&#x27;, DecisionTreeRegressor(random_state=7))])</pre><b>In a Jupyter environment, please rerun this cell to show the HTML representation or trust the notebook. <br />On GitHub, the HTML representation is unable to render, please try loading this page with nbviewer.org.</b></div><div class=\"sk-container\" hidden><div class=\"sk-item sk-dashed-wrapped\"><div class=\"sk-label-container\"><div class=\"sk-label sk-toggleable\"><input class=\"sk-toggleable__control sk-hidden--visually\" id=\"sk-estimator-id-5\" type=\"checkbox\" ><label for=\"sk-estimator-id-5\" class=\"sk-toggleable__label sk-toggleable__label-arrow\">Pipeline</label><div class=\"sk-toggleable__content\"><pre>Pipeline(steps=[(&#x27;dt&#x27;, DecisionTreeRegressor(random_state=7))])</pre></div></div></div><div class=\"sk-serial\"><div class=\"sk-item\"><div class=\"sk-estimator sk-toggleable\"><input class=\"sk-toggleable__control sk-hidden--visually\" id=\"sk-estimator-id-6\" type=\"checkbox\" ><label for=\"sk-estimator-id-6\" class=\"sk-toggleable__label sk-toggleable__label-arrow\">DecisionTreeRegressor</label><div class=\"sk-toggleable__content\"><pre>DecisionTreeRegressor(random_state=7)</pre></div></div></div></div></div></div></div>"
      ],
      "text/plain": [
       "Pipeline(steps=[('dt', DecisionTreeRegressor(random_state=7))])"
      ]
     },
     "execution_count": 39,
     "metadata": {},
     "output_type": "execute_result"
    }
   ],
   "source": [
    "# Fit train set dengan pipe Decision Tree\n",
    "pipe_dt.fit(X_train_final, y_train)"
   ]
  },
  {
   "cell_type": "code",
   "execution_count": 40,
   "metadata": {},
   "outputs": [
    {
     "data": {
      "text/html": [
       "<style>#sk-container-id-4 {color: black;background-color: white;}#sk-container-id-4 pre{padding: 0;}#sk-container-id-4 div.sk-toggleable {background-color: white;}#sk-container-id-4 label.sk-toggleable__label {cursor: pointer;display: block;width: 100%;margin-bottom: 0;padding: 0.3em;box-sizing: border-box;text-align: center;}#sk-container-id-4 label.sk-toggleable__label-arrow:before {content: \"▸\";float: left;margin-right: 0.25em;color: #696969;}#sk-container-id-4 label.sk-toggleable__label-arrow:hover:before {color: black;}#sk-container-id-4 div.sk-estimator:hover label.sk-toggleable__label-arrow:before {color: black;}#sk-container-id-4 div.sk-toggleable__content {max-height: 0;max-width: 0;overflow: hidden;text-align: left;background-color: #f0f8ff;}#sk-container-id-4 div.sk-toggleable__content pre {margin: 0.2em;color: black;border-radius: 0.25em;background-color: #f0f8ff;}#sk-container-id-4 input.sk-toggleable__control:checked~div.sk-toggleable__content {max-height: 200px;max-width: 100%;overflow: auto;}#sk-container-id-4 input.sk-toggleable__control:checked~label.sk-toggleable__label-arrow:before {content: \"▾\";}#sk-container-id-4 div.sk-estimator input.sk-toggleable__control:checked~label.sk-toggleable__label {background-color: #d4ebff;}#sk-container-id-4 div.sk-label input.sk-toggleable__control:checked~label.sk-toggleable__label {background-color: #d4ebff;}#sk-container-id-4 input.sk-hidden--visually {border: 0;clip: rect(1px 1px 1px 1px);clip: rect(1px, 1px, 1px, 1px);height: 1px;margin: -1px;overflow: hidden;padding: 0;position: absolute;width: 1px;}#sk-container-id-4 div.sk-estimator {font-family: monospace;background-color: #f0f8ff;border: 1px dotted black;border-radius: 0.25em;box-sizing: border-box;margin-bottom: 0.5em;}#sk-container-id-4 div.sk-estimator:hover {background-color: #d4ebff;}#sk-container-id-4 div.sk-parallel-item::after {content: \"\";width: 100%;border-bottom: 1px solid gray;flex-grow: 1;}#sk-container-id-4 div.sk-label:hover label.sk-toggleable__label {background-color: #d4ebff;}#sk-container-id-4 div.sk-serial::before {content: \"\";position: absolute;border-left: 1px solid gray;box-sizing: border-box;top: 0;bottom: 0;left: 50%;z-index: 0;}#sk-container-id-4 div.sk-serial {display: flex;flex-direction: column;align-items: center;background-color: white;padding-right: 0.2em;padding-left: 0.2em;position: relative;}#sk-container-id-4 div.sk-item {position: relative;z-index: 1;}#sk-container-id-4 div.sk-parallel {display: flex;align-items: stretch;justify-content: center;background-color: white;position: relative;}#sk-container-id-4 div.sk-item::before, #sk-container-id-4 div.sk-parallel-item::before {content: \"\";position: absolute;border-left: 1px solid gray;box-sizing: border-box;top: 0;bottom: 0;left: 50%;z-index: -1;}#sk-container-id-4 div.sk-parallel-item {display: flex;flex-direction: column;z-index: 1;position: relative;background-color: white;}#sk-container-id-4 div.sk-parallel-item:first-child::after {align-self: flex-end;width: 50%;}#sk-container-id-4 div.sk-parallel-item:last-child::after {align-self: flex-start;width: 50%;}#sk-container-id-4 div.sk-parallel-item:only-child::after {width: 0;}#sk-container-id-4 div.sk-dashed-wrapped {border: 1px dashed gray;margin: 0 0.4em 0.5em 0.4em;box-sizing: border-box;padding-bottom: 0.4em;background-color: white;}#sk-container-id-4 div.sk-label label {font-family: monospace;font-weight: bold;display: inline-block;line-height: 1.2em;}#sk-container-id-4 div.sk-label-container {text-align: center;}#sk-container-id-4 div.sk-container {/* jupyter's `normalize.less` sets `[hidden] { display: none; }` but bootstrap.min.css set `[hidden] { display: none !important; }` so we also need the `!important` here to be able to override the default hidden behavior on the sphinx rendered scikit-learn.org. See: https://github.com/scikit-learn/scikit-learn/issues/21755 */display: inline-block !important;position: relative;}#sk-container-id-4 div.sk-text-repr-fallback {display: none;}</style><div id=\"sk-container-id-4\" class=\"sk-top-container\"><div class=\"sk-text-repr-fallback\"><pre>Pipeline(steps=[(&#x27;rf&#x27;, RandomForestRegressor(random_state=7))])</pre><b>In a Jupyter environment, please rerun this cell to show the HTML representation or trust the notebook. <br />On GitHub, the HTML representation is unable to render, please try loading this page with nbviewer.org.</b></div><div class=\"sk-container\" hidden><div class=\"sk-item sk-dashed-wrapped\"><div class=\"sk-label-container\"><div class=\"sk-label sk-toggleable\"><input class=\"sk-toggleable__control sk-hidden--visually\" id=\"sk-estimator-id-7\" type=\"checkbox\" ><label for=\"sk-estimator-id-7\" class=\"sk-toggleable__label sk-toggleable__label-arrow\">Pipeline</label><div class=\"sk-toggleable__content\"><pre>Pipeline(steps=[(&#x27;rf&#x27;, RandomForestRegressor(random_state=7))])</pre></div></div></div><div class=\"sk-serial\"><div class=\"sk-item\"><div class=\"sk-estimator sk-toggleable\"><input class=\"sk-toggleable__control sk-hidden--visually\" id=\"sk-estimator-id-8\" type=\"checkbox\" ><label for=\"sk-estimator-id-8\" class=\"sk-toggleable__label sk-toggleable__label-arrow\">RandomForestRegressor</label><div class=\"sk-toggleable__content\"><pre>RandomForestRegressor(random_state=7)</pre></div></div></div></div></div></div></div>"
      ],
      "text/plain": [
       "Pipeline(steps=[('rf', RandomForestRegressor(random_state=7))])"
      ]
     },
     "execution_count": 40,
     "metadata": {},
     "output_type": "execute_result"
    }
   ],
   "source": [
    "# Fit train set dengan pipe Random Forest\n",
    "pipe_rf.fit(X_train_final, y_train)"
   ]
  },
  {
   "cell_type": "code",
   "execution_count": 41,
   "metadata": {},
   "outputs": [
    {
     "data": {
      "text/html": [
       "<style>#sk-container-id-5 {color: black;background-color: white;}#sk-container-id-5 pre{padding: 0;}#sk-container-id-5 div.sk-toggleable {background-color: white;}#sk-container-id-5 label.sk-toggleable__label {cursor: pointer;display: block;width: 100%;margin-bottom: 0;padding: 0.3em;box-sizing: border-box;text-align: center;}#sk-container-id-5 label.sk-toggleable__label-arrow:before {content: \"▸\";float: left;margin-right: 0.25em;color: #696969;}#sk-container-id-5 label.sk-toggleable__label-arrow:hover:before {color: black;}#sk-container-id-5 div.sk-estimator:hover label.sk-toggleable__label-arrow:before {color: black;}#sk-container-id-5 div.sk-toggleable__content {max-height: 0;max-width: 0;overflow: hidden;text-align: left;background-color: #f0f8ff;}#sk-container-id-5 div.sk-toggleable__content pre {margin: 0.2em;color: black;border-radius: 0.25em;background-color: #f0f8ff;}#sk-container-id-5 input.sk-toggleable__control:checked~div.sk-toggleable__content {max-height: 200px;max-width: 100%;overflow: auto;}#sk-container-id-5 input.sk-toggleable__control:checked~label.sk-toggleable__label-arrow:before {content: \"▾\";}#sk-container-id-5 div.sk-estimator input.sk-toggleable__control:checked~label.sk-toggleable__label {background-color: #d4ebff;}#sk-container-id-5 div.sk-label input.sk-toggleable__control:checked~label.sk-toggleable__label {background-color: #d4ebff;}#sk-container-id-5 input.sk-hidden--visually {border: 0;clip: rect(1px 1px 1px 1px);clip: rect(1px, 1px, 1px, 1px);height: 1px;margin: -1px;overflow: hidden;padding: 0;position: absolute;width: 1px;}#sk-container-id-5 div.sk-estimator {font-family: monospace;background-color: #f0f8ff;border: 1px dotted black;border-radius: 0.25em;box-sizing: border-box;margin-bottom: 0.5em;}#sk-container-id-5 div.sk-estimator:hover {background-color: #d4ebff;}#sk-container-id-5 div.sk-parallel-item::after {content: \"\";width: 100%;border-bottom: 1px solid gray;flex-grow: 1;}#sk-container-id-5 div.sk-label:hover label.sk-toggleable__label {background-color: #d4ebff;}#sk-container-id-5 div.sk-serial::before {content: \"\";position: absolute;border-left: 1px solid gray;box-sizing: border-box;top: 0;bottom: 0;left: 50%;z-index: 0;}#sk-container-id-5 div.sk-serial {display: flex;flex-direction: column;align-items: center;background-color: white;padding-right: 0.2em;padding-left: 0.2em;position: relative;}#sk-container-id-5 div.sk-item {position: relative;z-index: 1;}#sk-container-id-5 div.sk-parallel {display: flex;align-items: stretch;justify-content: center;background-color: white;position: relative;}#sk-container-id-5 div.sk-item::before, #sk-container-id-5 div.sk-parallel-item::before {content: \"\";position: absolute;border-left: 1px solid gray;box-sizing: border-box;top: 0;bottom: 0;left: 50%;z-index: -1;}#sk-container-id-5 div.sk-parallel-item {display: flex;flex-direction: column;z-index: 1;position: relative;background-color: white;}#sk-container-id-5 div.sk-parallel-item:first-child::after {align-self: flex-end;width: 50%;}#sk-container-id-5 div.sk-parallel-item:last-child::after {align-self: flex-start;width: 50%;}#sk-container-id-5 div.sk-parallel-item:only-child::after {width: 0;}#sk-container-id-5 div.sk-dashed-wrapped {border: 1px dashed gray;margin: 0 0.4em 0.5em 0.4em;box-sizing: border-box;padding-bottom: 0.4em;background-color: white;}#sk-container-id-5 div.sk-label label {font-family: monospace;font-weight: bold;display: inline-block;line-height: 1.2em;}#sk-container-id-5 div.sk-label-container {text-align: center;}#sk-container-id-5 div.sk-container {/* jupyter's `normalize.less` sets `[hidden] { display: none; }` but bootstrap.min.css set `[hidden] { display: none !important; }` so we also need the `!important` here to be able to override the default hidden behavior on the sphinx rendered scikit-learn.org. See: https://github.com/scikit-learn/scikit-learn/issues/21755 */display: inline-block !important;position: relative;}#sk-container-id-5 div.sk-text-repr-fallback {display: none;}</style><div id=\"sk-container-id-5\" class=\"sk-top-container\"><div class=\"sk-text-repr-fallback\"><pre>Pipeline(steps=[(&#x27;ab&#x27;, AdaBoostRegressor(random_state=7))])</pre><b>In a Jupyter environment, please rerun this cell to show the HTML representation or trust the notebook. <br />On GitHub, the HTML representation is unable to render, please try loading this page with nbviewer.org.</b></div><div class=\"sk-container\" hidden><div class=\"sk-item sk-dashed-wrapped\"><div class=\"sk-label-container\"><div class=\"sk-label sk-toggleable\"><input class=\"sk-toggleable__control sk-hidden--visually\" id=\"sk-estimator-id-9\" type=\"checkbox\" ><label for=\"sk-estimator-id-9\" class=\"sk-toggleable__label sk-toggleable__label-arrow\">Pipeline</label><div class=\"sk-toggleable__content\"><pre>Pipeline(steps=[(&#x27;ab&#x27;, AdaBoostRegressor(random_state=7))])</pre></div></div></div><div class=\"sk-serial\"><div class=\"sk-item\"><div class=\"sk-estimator sk-toggleable\"><input class=\"sk-toggleable__control sk-hidden--visually\" id=\"sk-estimator-id-10\" type=\"checkbox\" ><label for=\"sk-estimator-id-10\" class=\"sk-toggleable__label sk-toggleable__label-arrow\">AdaBoostRegressor</label><div class=\"sk-toggleable__content\"><pre>AdaBoostRegressor(random_state=7)</pre></div></div></div></div></div></div></div>"
      ],
      "text/plain": [
       "Pipeline(steps=[('ab', AdaBoostRegressor(random_state=7))])"
      ]
     },
     "execution_count": 41,
     "metadata": {},
     "output_type": "execute_result"
    }
   ],
   "source": [
    "# Fit train set dengan pipe AdaBoost\n",
    "pipe_ab.fit(X_train_final, y_train)"
   ]
  },
  {
   "attachments": {},
   "cell_type": "markdown",
   "metadata": {},
   "source": [
    "# viii. Model Evaluation"
   ]
  },
  {
   "attachments": {},
   "cell_type": "markdown",
   "metadata": {},
   "source": [
    "#### Hasil skor setiap model"
   ]
  },
  {
   "cell_type": "code",
   "execution_count": 42,
   "metadata": {},
   "outputs": [
    {
     "data": {
      "text/html": [
       "<div>\n",
       "<style scoped>\n",
       "    .dataframe tbody tr th:only-of-type {\n",
       "        vertical-align: middle;\n",
       "    }\n",
       "\n",
       "    .dataframe tbody tr th {\n",
       "        vertical-align: top;\n",
       "    }\n",
       "\n",
       "    .dataframe thead th {\n",
       "        text-align: right;\n",
       "    }\n",
       "</style>\n",
       "<table border=\"1\" class=\"dataframe\">\n",
       "  <thead>\n",
       "    <tr style=\"text-align: right;\">\n",
       "      <th></th>\n",
       "      <th>Score</th>\n",
       "    </tr>\n",
       "  </thead>\n",
       "  <tbody>\n",
       "    <tr>\n",
       "      <th>Linear Regression</th>\n",
       "      <td>0.673</td>\n",
       "    </tr>\n",
       "    <tr>\n",
       "      <th>KNN</th>\n",
       "      <td>0.763</td>\n",
       "    </tr>\n",
       "    <tr>\n",
       "      <th>Decisiion Tree</th>\n",
       "      <td>0.780</td>\n",
       "    </tr>\n",
       "    <tr>\n",
       "      <th>Random Forest</th>\n",
       "      <td>0.819</td>\n",
       "    </tr>\n",
       "    <tr>\n",
       "      <th>AdaBoost</th>\n",
       "      <td>0.302</td>\n",
       "    </tr>\n",
       "  </tbody>\n",
       "</table>\n",
       "</div>"
      ],
      "text/plain": [
       "                   Score\n",
       "Linear Regression  0.673\n",
       "KNN                0.763\n",
       "Decisiion Tree     0.780\n",
       "Random Forest      0.819\n",
       "AdaBoost           0.302"
      ]
     },
     "execution_count": 42,
     "metadata": {},
     "output_type": "execute_result"
    }
   ],
   "source": [
    "# Tampilkan score tiap model\n",
    "\n",
    "score_lr = pipe_lr.score(X_test_final, y_test)\n",
    "score_knn = pipe_knn.score(X_test_final, y_test)\n",
    "scpre_dt = pipe_dt.score(X_test_final, y_test)\n",
    "score_rf = pipe_rf.score(X_test_final, y_test)\n",
    "score_ab = pipe_ab.score(X_test_final, y_test)\n",
    "\n",
    "score_list = [np.round(score_lr,3), np.round(score_knn,3), np.round(scpre_dt,3), np.round(score_rf,3), np.round(score_ab,3)]\n",
    "\n",
    "model_list = [\"Linear Regression\", \"KNN\", \"Decisiion Tree\", \"Random Forest\", \"AdaBoost\"]\n",
    "\n",
    "d = {\"Score\" : score_list}\n",
    "\n",
    "df_score = pd.DataFrame(data=d, index=model_list)\n",
    "df_score"
   ]
  },
  {
   "cell_type": "code",
   "execution_count": 35,
   "metadata": {},
   "outputs": [
    {
     "data": {
      "image/png": "[encoded data removed]",
      "text/plain": [
       "<Figure size 800x500 with 1 Axes>"
      ]
     },
     "metadata": {},
     "output_type": "display_data"
    }
   ],
   "source": [
    "# Visualisasi skor\n",
    "score_b = df_score.plot(kind=\"bar\", grid=True, figsize=(8,5))\n",
    "plt.xticks(rotation=\"horizontal\")\n",
    "\n",
    "for i in score_b.containers:\n",
    "    score_b.bar_label(i,)"
   ]
  },
  {
   "attachments": {},
   "cell_type": "markdown",
   "metadata": {},
   "source": [
    "Dari hasil skor setiap model, algoritma Random Forest memiliki nilai skor paling tinggi dibandingkan algorima lainnya (0.819). Maka algoritma ini selanjutnya yang akan dipilih untuk menjadi base model dan dilakukan hyperparameter tuning yang diharapkan dapat meningkatkan lagi skornya."
   ]
  },
  {
   "attachments": {},
   "cell_type": "markdown",
   "metadata": {},
   "source": [
    "#### Hyperparameter tuning"
   ]
  },
  {
   "cell_type": "code",
   "execution_count": 43,
   "metadata": {},
   "outputs": [],
   "source": [
    "# Pencarian hyperparameter dengan Manual Search\n",
    "\n",
    "pipe_rf_kai = Pipeline([(\"rf_kai\", RandomForestRegressor(random_state=7, n_estimators=500, max_depth=30, min_samples_leaf=4, min_samples_split=10))])\n",
    "pipe_rf_kai.fit(X_train_final, y_train)\n",
    "\n",
    "score_rf_kai = pipe_rf_kai.score(X_test_final, y_test)"
   ]
  },
  {
   "cell_type": "code",
   "execution_count": 44,
   "metadata": {},
   "outputs": [
    {
     "name": "stdout",
     "output_type": "stream",
     "text": [
      "Random forest score: 0.819\n",
      "Random forest tuned score: 0.827\n"
     ]
    }
   ],
   "source": [
    "# Perbandingan score\n",
    "print(\"Random forest score: {:.3f}\".format(score_rf))\n",
    "print(\"Random forest tuned score: {:.3f}\".format(score_rf_kai))"
   ]
  },
  {
   "attachments": {},
   "cell_type": "markdown",
   "metadata": {},
   "source": [
    "Dari hasil tuning yang dilakukan, terjadi peningkatan score yang sebelumnya 0.819 menjadi 0.827. Artinya hyperparameter tuning meningkatkan keakuratan prediksi model terhadap nilai aktualnya."
   ]
  },
  {
   "cell_type": "code",
   "execution_count": 45,
   "metadata": {},
   "outputs": [],
   "source": [
    "# Prediksi dengan model final\n",
    "pred_train_kai = pipe_rf_kai.predict(X_train_final)\n",
    "pred_test_kai = pipe_rf_kai.predict(X_test_final)"
   ]
  },
  {
   "cell_type": "code",
   "execution_count": 46,
   "metadata": {},
   "outputs": [
    {
     "data": {
      "text/html": [
       "<div>\n",
       "<style scoped>\n",
       "    .dataframe tbody tr th:only-of-type {\n",
       "        vertical-align: middle;\n",
       "    }\n",
       "\n",
       "    .dataframe tbody tr th {\n",
       "        vertical-align: top;\n",
       "    }\n",
       "\n",
       "    .dataframe thead th {\n",
       "        text-align: right;\n",
       "    }\n",
       "</style>\n",
       "<table border=\"1\" class=\"dataframe\">\n",
       "  <thead>\n",
       "    <tr style=\"text-align: right;\">\n",
       "      <th></th>\n",
       "      <th>price</th>\n",
       "      <th>price prediction</th>\n",
       "    </tr>\n",
       "  </thead>\n",
       "  <tbody>\n",
       "    <tr>\n",
       "      <th>15561</th>\n",
       "      <td>33930</td>\n",
       "      <td>35424.561768</td>\n",
       "    </tr>\n",
       "    <tr>\n",
       "      <th>121559</th>\n",
       "      <td>29820</td>\n",
       "      <td>24581.662739</td>\n",
       "    </tr>\n",
       "    <tr>\n",
       "      <th>125778</th>\n",
       "      <td>43760</td>\n",
       "      <td>61477.428198</td>\n",
       "    </tr>\n",
       "    <tr>\n",
       "      <th>117637</th>\n",
       "      <td>28990</td>\n",
       "      <td>27615.523820</td>\n",
       "    </tr>\n",
       "    <tr>\n",
       "      <th>43669</th>\n",
       "      <td>21780</td>\n",
       "      <td>21587.429997</td>\n",
       "    </tr>\n",
       "    <tr>\n",
       "      <th>...</th>\n",
       "      <td>...</td>\n",
       "      <td>...</td>\n",
       "    </tr>\n",
       "    <tr>\n",
       "      <th>91551</th>\n",
       "      <td>25988</td>\n",
       "      <td>29828.214938</td>\n",
       "    </tr>\n",
       "    <tr>\n",
       "      <th>125511</th>\n",
       "      <td>27970</td>\n",
       "      <td>29615.077091</td>\n",
       "    </tr>\n",
       "    <tr>\n",
       "      <th>81045</th>\n",
       "      <td>14930</td>\n",
       "      <td>15585.483221</td>\n",
       "    </tr>\n",
       "    <tr>\n",
       "      <th>79651</th>\n",
       "      <td>32790</td>\n",
       "      <td>37277.424807</td>\n",
       "    </tr>\n",
       "    <tr>\n",
       "      <th>98777</th>\n",
       "      <td>24900</td>\n",
       "      <td>30871.830573</td>\n",
       "    </tr>\n",
       "  </tbody>\n",
       "</table>\n",
       "<p>21726 rows × 2 columns</p>\n",
       "</div>"
      ],
      "text/plain": [
       "        price  price prediction\n",
       "15561   33930      35424.561768\n",
       "121559  29820      24581.662739\n",
       "125778  43760      61477.428198\n",
       "117637  28990      27615.523820\n",
       "43669   21780      21587.429997\n",
       "...       ...               ...\n",
       "91551   25988      29828.214938\n",
       "125511  27970      29615.077091\n",
       "81045   14930      15585.483221\n",
       "79651   32790      37277.424807\n",
       "98777   24900      30871.830573\n",
       "\n",
       "[21726 rows x 2 columns]"
      ]
     },
     "execution_count": 46,
     "metadata": {},
     "output_type": "execute_result"
    }
   ],
   "source": [
    "# Dataframe komparasi\n",
    "df_pred = pd.DataFrame(pred_test_kai, index=y_test.index, columns=[\"price prediction\"])\n",
    "df_cmp = pd.concat([y_test, df_pred], axis=1)\n",
    "df_cmp"
   ]
  },
  {
   "cell_type": "code",
   "execution_count": 47,
   "metadata": {},
   "outputs": [
    {
     "name": "stdout",
     "output_type": "stream",
     "text": [
      "MAE score train: 3950.631\n",
      "MAE score test: 4881.934\n",
      "\n",
      "\n",
      "Mean train target: 37706.436\n",
      "Mean test target: 37880.644\n"
     ]
    }
   ],
   "source": [
    "# Tampilkan nilai mean absolute error pada train dan test set\n",
    "print(\"MAE score train: {:.3f}\".format(mean_absolute_error(y_train, pred_train_kai)))\n",
    "print(\"MAE score test: {:.3f}\".format(mean_absolute_error(y_test, pred_test_kai)))\n",
    "print(\"\\n\")\n",
    "print(\"Mean train target: {:.3f}\".format(y_train.mean()))\n",
    "print(\"Mean test target: {:.3f}\".format(y_test.mean()))"
   ]
  },
  {
   "attachments": {},
   "cell_type": "markdown",
   "metadata": {},
   "source": [
    "Dari hasil yang didapat, nilai MAE/rata-rata kesalahan pada train set adalah 3950.63. Kemudian nilai MAE/rata-rata kesalahan pada test set adalah 4881.93. Dapat dikatakan nilai error tersebut masih tergolong rendah berdasarkan rata-rata nilai pada train dan test set (sekitar 37 ribu). Kemudian jarak/rentang kesalahan antara train dan test masih belum tinggi. Sehingga prediksi model tergolong good-fit."
   ]
  },
  {
   "attachments": {},
   "cell_type": "markdown",
   "metadata": {},
   "source": [
    "# ix. Model Saving"
   ]
  },
  {
   "attachments": {},
   "cell_type": "markdown",
   "metadata": {},
   "source": [
    "Pada tahap ini dilakukan penyimpanan model dan pengetesan menggunakan data inference set (data diluar train dan test). Penyimpanan dan load menggunakan library pickle (untuk menyimpan library binary) dan json."
   ]
  },
  {
   "cell_type": "code",
   "execution_count": 48,
   "metadata": {},
   "outputs": [],
   "source": [
    "# Menyimpan model dan fitur dengan pickle dan json\n",
    "\n",
    "with open(\"model.pkl\", \"wb\") as file_1:\n",
    "    pickle.dump(pipe_rf_kai, file_1)\n",
    "\n",
    "with open(\"scaler.pkl\", \"wb\") as file_2:\n",
    "    pickle.dump(scaler, file_2)\n",
    "\n",
    "with open(\"encoder.pkl\", \"wb\") as file_3:\n",
    "    pickle.dump(encoder, file_3)\n",
    "\n",
    "with open(\"list_num_cols.txt\", \"w\") as file_4:\n",
    "    json.dump(num_columns, file_4)\n",
    "\n",
    "with open(\"list_cat_cols.txt\", \"w\") as file_5:\n",
    "    json.dump(cat_columns, file_5)\n",
    "\n",
    "with open(\"list_cat_num_cols.txt\", \"w\") as file_6:\n",
    "    json.dump(cat_num_columns, file_6)"
   ]
  },
  {
   "attachments": {},
   "cell_type": "markdown",
   "metadata": {},
   "source": [
    "# x. Model Inference"
   ]
  },
  {
   "attachments": {},
   "cell_type": "markdown",
   "metadata": {},
   "source": [
    "Pada tahap ini dilakukan pengetesan menggunakan data inference set (data diluar train dan test). Untuk pengetesan prediksi inference dapat dilihat pada inference_set.ipynb"
   ]
  },
  {
   "attachments": {},
   "cell_type": "markdown",
   "metadata": {},
   "source": [
    "# xi. Pengambilan Kesimpulan"
   ]
  },
  {
   "attachments": {},
   "cell_type": "markdown",
   "metadata": {},
   "source": [
    "Dari hasil modeling yang telah dilakukan setelah dievaluasi menggunakan Pipe score dan Mean Absolute Error, model yang telah dirancang termasuk good-fit. Artinya model sudah cukup baik untuk melakukan prediksi harga mobil baik di train-set maupun test-set. Hasil prediksi yang baik dapat dikatakan pemilihan fiturnya sudah cocok, artinya harga sebuah mobil adalah dengan berdasarkan tahun registrasi, mileage, dan juga spesifikasi mobil tersebut seperti transmisi, jenis mesin, dan jenis bahan bakar yang digunakan.  Beberapa hal teknis yang mempengaruhi akurasi dari prediksi yang dilakukan model adalah:\n",
    "<ul>\n",
    "    <li>Split train-set dan test-set. Pada pemisahan data yang digunakan untuk melatih dan mengetest model perlu diperhatikan. Jika jumlah data train lebih sedikit dibandingkan data test, maka akurasi akan cenderung menurun karena dapat dianggap kurang data untuk melatih model.</li><br>\n",
    "    <li>Pemilihan fitur. Dilakukan seleksi fitur yang sekiranya cocok untuk melatih model. Pemilihan bisa dengan uji korelasi seperti pearson/random forest/dan sebagainya atau pemilihan secara subjektif.</li><br>\n",
    "    <li>Handling missing value. Ada berbagai macam cara untuk menangani missing value seperti CCA, mean median inputation, random input. Pemilihan metode ini dapat mempengaruhi akurasi prediksi model.</li><br>\n",
    "    <li>Handling outlier. Ada berbagai macam cara juga untuk menangani outlier pada data, mulai dari trimming atau censoring. Apabila outlier tidak berdampak besar pada data atau outlier tersebuat adalah data alami (bukan error) maka dapat dihiraukan. Beberapa algoritma modeling sensitif terhadap outlier, contohnya Linear Regression. Karena pada kasus ini outlier tidak dihandle maka score dari algoritma tersebut cenderung rendah.</li><br>\n",
    "    <li>Scaling fitur. Sebelum dilakukan model train perlu dilakukan scaling pada fitur numerik. Tujuannya adalah untuk melakukan penskalaan pada setiap fitur numerik karena umumnya setiap fitur memiliki rentangnya masing-masing, selain itu scaling juga dapat meningkatkan akurasi dari model. Scaling yang dilakukan untuk fitur yang distribusinya normal dapat menggunakan Standard Scaler. Lalu untuk yang distribusinya tidak normal/skew dapat menggunakan Min Max Scaler. Kemudian jika skewnya ekstrim dapat menggunakan Robust Scaling</li><br>\n",
    "    <li>Encoding fitur. Selain scaling, untuk fitur kategorikal perlu dilakukan encoding. Training model akan bermasalah jika kategorikal tidak diencoding karena pada dasarnya pada proses machine learning hanya menerima data dalam bentuk numerik (tidak bisa dalam bentuk string), sehingga string perlu diubah kedalam bentuk numerik. Untuk encoding kategorikal yang tidak ada tingkatannya dapat menggunakan One Hot Encoder, kemudian jika ada tingkatannya dapat menggunakan Ordinal Encoder atau Label Encoder.</li><br>\n",
    "    <li>Pemilihan algoritma modeling. Algoritma seperti Logistic Regression, SVM, Decision Tree, Random Forest, KNN, Naive Bayes, dsb. memiliki cara kerja untuk training dan prediction yang berbeda-beda. Sehingga hasil akurasi prediksi setiap algoritma berbeda-beda.</li><br>\n",
    "    <li>Pengaturan Hyperparameter Tuning. Pengaturan untuk memodifikasi cara kerja algoritma dapat dikatakan opsi terakhir untuk mengubah akurasi dari sebuah model. Terkadang pengaturan default dari suatu algoritma tidak lebih baik jika belum dilakukan hyperparameter tuning. Pencarian pengaturan tuning yang tepat dapat dengan cara manual maupun grid search ataupun random search.</li><br>\n",
    "</ul>"
   ]
  }
 ],
 "metadata": {
  "kernelspec": {
   "display_name": "MyEnvironment",
   "language": "python",
   "name": "python3"
  },
  "language_info": {
   "codemirror_mode": {
    "name": "ipython",
    "version": 3
   },
   "file_extension": ".py",
   "mimetype": "text/x-python",
   "name": "python",
   "nbconvert_exporter": "python",
   "pygments_lexer": "ipython3",
   "version": "3.11.0"
  },
  "orig_nbformat": 4,
  "vscode": {
   "interpreter": {
    "hash": "f1e0c053c48393934bfb4e857e570e86bb0b39b48be5cfd7eb8c3f52e80641bb"
   }
  }
 },
 "nbformat": 4,
 "nbformat_minor": 2
}
